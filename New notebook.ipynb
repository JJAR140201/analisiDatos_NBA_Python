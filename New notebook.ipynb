{
 "cells":[
  {
   "cell_type":"markdown",
   "source":[
    "### Introducción a Limpieza de Datos "
   ],
   "attachments":{
    
   },
   "metadata":{
    "datalore":{
     "node_id":"89oQ4fUKDipGXdq9v9kILM",
     "type":"MD",
     "hide_input_from_viewers":false,
     "hide_output_from_viewers":false,
     "report_properties":{
      "rowId":"GMDF5SA4tRiHm5mBBZO4up"
     }
    }
   }
  },
  {
   "cell_type":"markdown",
   "source":[
    "### Paso 1: Librerias de python"
   ],
   "attachments":{
    
   },
   "metadata":{
    "datalore":{
     "node_id":"bPZN59f9a9Tryufipws7JJ",
     "type":"MD",
     "hide_input_from_viewers":false,
     "hide_output_from_viewers":false,
     "report_properties":{
      "rowId":"JqtkUDh1Cnum9wyqnlCkul"
     }
    }
   }
  },
  {
   "cell_type":"code",
   "source":[
    "##Limpieza de datos , manipulación\n",
    "import pandas as pd\n",
    "##arreglos y matemáticos\n",
    "import numpy as np\n",
    "##Graficas estáticas\n",
    "import matplotlib.pyplot as plt\n",
    "import seaborn as sns\n",
    "\n",
    "##Manejo de warnings\n",
    "import warnings\n",
    "warnings.simplefilter('ignore')"
   ],
   "execution_count":2,
   "outputs":[
    
   ],
   "metadata":{
    "datalore":{
     "node_id":"XxhuslOOLyH2OXEqjMkmGt",
     "type":"CODE",
     "hide_input_from_viewers":false,
     "hide_output_from_viewers":false,
     "report_properties":{
      "rowId":"FqBjeiBM52xF5YWwatySHk"
     }
    }
   }
  },
  {
   "cell_type":"markdown",
   "source":[
    "### Paso: Funciones "
   ],
   "attachments":{
    
   },
   "metadata":{
    "datalore":{
     "node_id":"uFUb6RaZQhDJYnxOtfn8Z7",
     "type":"MD",
     "hide_input_from_viewers":false,
     "hide_output_from_viewers":false,
     "report_properties":{
      "rowId":"2nv3tgC6rrX4UfroXDLI5n"
     }
    }
   }
  },
  {
   "cell_type":"code",
   "source":[
    "##Función para carga de datos\n",
    "def cargaDatos(ruta, nomarchivo, ext, sep):\n",
    "    if ext == '.xlsx':\n",
    "        datos = pd.read_excel(ruta+nomarchivo+ext)\n",
    "        return datos\n",
    "    elif ext== '.csv':\n",
    "        datos = pd.read_csv(ruta+nomarchivo+ext, encoding=\"latin-1\", sep=sep)\n",
    "        return datos\n",
    "    else:\n",
    "        print('la cagastes no existe esa extensión')\n",
    "##Función para revisar datos NAN\n",
    "def datosNA(df):\n",
    "    if isinstance(df, pd.DataFrame):\n",
    "        total_na = df.isna().sum().sum()\n",
    "        print(\"Dimensiones : %d filas, %d columnas\" % \n",
    "              (df.shape[0], df.shape[1]))\n",
    "        print(\"Total de valores NAN: %d\" %(total_na))\n",
    "        print(\"%38s %10s   %10s %10s\" % \n",
    "              (\"Nombre de columna\", \"Tipo de dato\", \"# Distintos\", \"Valores NA\"))\n",
    "        col_name = df.columns\n",
    "        dtyp = df.dtypes\n",
    "        uniq = df.nunique()\n",
    "        na_val = df.isna().sum()\n",
    "        for i in range(len(df.columns)):\n",
    "            print(\"%38s %10s   %10s %10s\" % \n",
    "                  (col_name[i], dtyp[i], uniq[i], na_val[i]))\n",
    "    else:\n",
    "        print(\"Se esperaba un dataframe estas loco!: %15s\" % (type(df)))\n",
    "\n",
    "##Función tres histograma para datos numéricos\n",
    "def grafhisto(df, nomcol, anchobar):\n",
    "    sns.histplot(df, x=nomcol, binwidth=anchobar, kde=True)\n",
    "\n",
    "##Limpieza de datos numericos con media o mediana\n",
    "def limpiezaNum(df, nomcol, param):\n",
    "    if param == 'media':\n",
    "        df[nomcol] = df[nomcol].fillna(df[nomcol].mean())\n",
    "        return df[nomcol]\n",
    "    elif param == 'mediana':\n",
    "        df[nomcol] = df[nomcol].fillna(df[nomcol].median())\n",
    "        return df[nomcol]\n",
    "    else:\n",
    "        print('no es un parámetro valido...')\n",
    "##Función para revisar datos categóricos\n",
    "def revCategoricos(df, nomcol):\n",
    "    return df[nomcol].value_counts()\n",
    "\n",
    "##Función para la moda de datos categóricos\n",
    "def modaCat(df, nomcol):\n",
    "    df[nomcol] = df[nomcol].fillna(df[nomcol].mode()[0])\n",
    "    return df[nomcol]\n",
    "\n",
    "###Función para hacer variables dummies - one hot encoder\n",
    "def convDummies(df, nomcol):\n",
    "  dummies = pd.get_dummies(df[nomcol])\n",
    "  data = pd.concat([df, dummies], axis=1)\n",
    "  data.drop(columns=[nomcol], inplace=True)\n",
    "  return data"
   ],
   "execution_count":3,
   "outputs":[
    
   ],
   "metadata":{
    "datalore":{
     "node_id":"B5s11k0Xz9pc4z5G8r0prg",
     "type":"CODE",
     "hide_input_from_viewers":false,
     "hide_output_from_viewers":false,
     "report_properties":{
      "rowId":"BKc6U3Gt6PAGzNpduMRJUA"
     }
    }
   }
  },
  {
   "cell_type":"markdown",
   "source":[
    "### Paso 3 : Llamado a funciones"
   ],
   "attachments":{
    
   },
   "metadata":{
    "datalore":{
     "node_id":"YrfEuWVjjqLE6Fj6K1zaZo",
     "type":"MD",
     "hide_input_from_viewers":false,
     "hide_output_from_viewers":false,
     "report_properties":{
      "rowId":"WwZp0wAAM5iXu0JEw9YYcM"
     }
    }
   }
  },
  {
   "cell_type":"code",
   "source":[
    "###Cargue de los datos\n",
    "datos = cargaDatos('\/data\/notebook_files\/', 'envios', '.csv',';')\n",
    "datos.head()"
   ],
   "execution_count":4,
   "outputs":[
    {
     "data":{
      "text\/html":[
       "<div>\n",
       "<style scoped>\n",
       "    .dataframe tbody tr th:only-of-type {\n",
       "        vertical-align: middle;\n",
       "    }\n",
       "\n",
       "    .dataframe tbody tr th {\n",
       "        vertical-align: top;\n",
       "    }\n",
       "\n",
       "    .dataframe thead th {\n",
       "        text-align: right;\n",
       "    }\n",
       "<\/style>\n",
       "<table border=\"1\" class=\"dataframe\">\n",
       "  <thead>\n",
       "    <tr style=\"text-align: right;\">\n",
       "      <th><\/th>\n",
       "      <th>ProductKey<\/th>\n",
       "      <th>OrderDate<\/th>\n",
       "      <th>DueDate<\/th>\n",
       "      <th>ShipDate<\/th>\n",
       "      <th>CustomerKey<\/th>\n",
       "      <th>PromotionKey<\/th>\n",
       "      <th>SalesTerritoryCountry<\/th>\n",
       "      <th>SalesTerritoryGroup<\/th>\n",
       "      <th>SalesOrderNumber<\/th>\n",
       "      <th>SalesOrderLineNumber<\/th>\n",
       "      <th>...<\/th>\n",
       "      <th>Color<\/th>\n",
       "      <th>ListPrice<\/th>\n",
       "      <th>Size<\/th>\n",
       "      <th>SizeRange<\/th>\n",
       "      <th>Weight<\/th>\n",
       "      <th>ProductLine<\/th>\n",
       "      <th>Class<\/th>\n",
       "      <th>Style<\/th>\n",
       "      <th>ModelName<\/th>\n",
       "      <th>EnglishPromotionName<\/th>\n",
       "    <\/tr>\n",
       "  <\/thead>\n",
       "  <tbody>\n",
       "    <tr>\n",
       "      <th>0<\/th>\n",
       "      <td>310<\/td>\n",
       "      <td>29\/12\/2010<\/td>\n",
       "      <td>10\/01\/2011<\/td>\n",
       "      <td>5\/01\/2011<\/td>\n",
       "      <td>21768<\/td>\n",
       "      <td>1<\/td>\n",
       "      <td>Canada<\/td>\n",
       "      <td>North America<\/td>\n",
       "      <td>SO43697<\/td>\n",
       "      <td>1<\/td>\n",
       "      <td>...<\/td>\n",
       "      <td>Red<\/td>\n",
       "      <td>3578,27<\/td>\n",
       "      <td>62<\/td>\n",
       "      <td>60-62 CM<\/td>\n",
       "      <td>15<\/td>\n",
       "      <td>R<\/td>\n",
       "      <td>H<\/td>\n",
       "      <td>Unisex<\/td>\n",
       "      <td>Road-150<\/td>\n",
       "      <td>No Discount<\/td>\n",
       "    <\/tr>\n",
       "    <tr>\n",
       "      <th>1<\/th>\n",
       "      <td>346<\/td>\n",
       "      <td>29\/12\/2010<\/td>\n",
       "      <td>10\/01\/2011<\/td>\n",
       "      <td>5\/01\/2011<\/td>\n",
       "      <td>28389<\/td>\n",
       "      <td>1<\/td>\n",
       "      <td>France<\/td>\n",
       "      <td>Europe<\/td>\n",
       "      <td>SO43698<\/td>\n",
       "      <td>1<\/td>\n",
       "      <td>...<\/td>\n",
       "      <td>Silver<\/td>\n",
       "      <td>3399,99<\/td>\n",
       "      <td>44<\/td>\n",
       "      <td>42-46 CM<\/td>\n",
       "      <td>21,13<\/td>\n",
       "      <td>M<\/td>\n",
       "      <td>H<\/td>\n",
       "      <td>Unisex<\/td>\n",
       "      <td>Mountain-100<\/td>\n",
       "      <td>No Discount<\/td>\n",
       "    <\/tr>\n",
       "    <tr>\n",
       "      <th>2<\/th>\n",
       "      <td>346<\/td>\n",
       "      <td>29\/12\/2010<\/td>\n",
       "      <td>10\/01\/2011<\/td>\n",
       "      <td>5\/01\/2011<\/td>\n",
       "      <td>25863<\/td>\n",
       "      <td>1<\/td>\n",
       "      <td>United States<\/td>\n",
       "      <td>North America<\/td>\n",
       "      <td>SO43699<\/td>\n",
       "      <td>1<\/td>\n",
       "      <td>...<\/td>\n",
       "      <td>Silver<\/td>\n",
       "      <td>3399,99<\/td>\n",
       "      <td>44<\/td>\n",
       "      <td>42-46 CM<\/td>\n",
       "      <td>21,13<\/td>\n",
       "      <td>M<\/td>\n",
       "      <td>H<\/td>\n",
       "      <td>Unisex<\/td>\n",
       "      <td>Mountain-100<\/td>\n",
       "      <td>No Discount<\/td>\n",
       "    <\/tr>\n",
       "    <tr>\n",
       "      <th>3<\/th>\n",
       "      <td>336<\/td>\n",
       "      <td>29\/12\/2010<\/td>\n",
       "      <td>10\/01\/2011<\/td>\n",
       "      <td>5\/01\/2011<\/td>\n",
       "      <td>14501<\/td>\n",
       "      <td>1<\/td>\n",
       "      <td>United States<\/td>\n",
       "      <td>North America<\/td>\n",
       "      <td>SO43700<\/td>\n",
       "      <td>1<\/td>\n",
       "      <td>...<\/td>\n",
       "      <td>Black<\/td>\n",
       "      <td>699,0982<\/td>\n",
       "      <td>62<\/td>\n",
       "      <td>60-62 CM<\/td>\n",
       "      <td>20<\/td>\n",
       "      <td>R<\/td>\n",
       "      <td>L<\/td>\n",
       "      <td>Unisex<\/td>\n",
       "      <td>Road-650<\/td>\n",
       "      <td>No Discount<\/td>\n",
       "    <\/tr>\n",
       "    <tr>\n",
       "      <th>4<\/th>\n",
       "      <td>346<\/td>\n",
       "      <td>29\/12\/2010<\/td>\n",
       "      <td>10\/01\/2011<\/td>\n",
       "      <td>5\/01\/2011<\/td>\n",
       "      <td>11003<\/td>\n",
       "      <td>1<\/td>\n",
       "      <td>Australia<\/td>\n",
       "      <td>Pacific<\/td>\n",
       "      <td>SO43701<\/td>\n",
       "      <td>1<\/td>\n",
       "      <td>...<\/td>\n",
       "      <td>Silver<\/td>\n",
       "      <td>3399,99<\/td>\n",
       "      <td>44<\/td>\n",
       "      <td>42-46 CM<\/td>\n",
       "      <td>21,13<\/td>\n",
       "      <td>M<\/td>\n",
       "      <td>H<\/td>\n",
       "      <td>Unisex<\/td>\n",
       "      <td>Mountain-100<\/td>\n",
       "      <td>No Discount<\/td>\n",
       "    <\/tr>\n",
       "  <\/tbody>\n",
       "<\/table>\n",
       "<p>5 rows × 43 columns<\/p>\n",
       "<\/div>"
      ]
     },
     "metadata":{
      
     },
     "output_type":"display_data"
    }
   ],
   "metadata":{
    "datalore":{
     "node_id":"4JXaduPT8OQ5qtpguypptg",
     "type":"CODE",
     "hide_input_from_viewers":false,
     "hide_output_from_viewers":false,
     "report_properties":{
      "rowId":"K7NGssrsy7ZeV24hU6za3f"
     }
    }
   }
  },
  {
   "cell_type":"code",
   "source":[
    "###Verificación de datos NAN\n",
    "datosNA(datos)"
   ],
   "execution_count":6,
   "outputs":[
    {
     "name":"stdout",
     "text":[
      "Dimensiones : 281 filas, 43 columnas\n",
      "Total de valores NAN: 28\n",
      "                     Nombre de columna Tipo de dato   # Distintos Valores NA\n",
      "                            ProductKey      int64           22          0\n",
      "                             OrderDate     object           67          0\n",
      "                               DueDate     object           67          0\n",
      "                              ShipDate     object           67          0\n",
      "                           CustomerKey      int64          281          0\n",
      "                          PromotionKey      int64            1          0\n",
      "                 SalesTerritoryCountry     object            6         14\n",
      "                   SalesTerritoryGroup     object            3          0\n",
      "                      SalesOrderNumber     object          281          0\n",
      "                  SalesOrderLineNumber      int64            1          0\n",
      "                             UnitPrice     object            4          7\n",
      "                   ProductStandardCost     object            4          0\n",
      "                           SalesAmount     object            4          0\n",
      "                                TaxAmt     object            4          0\n",
      "                            First Name     object          216          0\n",
      "                             Last Name     object          139          0\n",
      "                             BirthDate     object          273          0\n",
      "                         MaritalStatus     object            2          0\n",
      "                                Gender     object            4          0\n",
      "                          EmailAddress     object          281          0\n",
      "                          YearlyIncome      int64           16          0\n",
      "                         TotalChildren      int64            6          0\n",
      "                  NumberChildrenAtHome      int64            6          0\n",
      "                      EnglishEducation     object            5          7\n",
      "                     EnglishOccupation     object            5          0\n",
      "                        HouseOwnerFlag     object            2          0\n",
      "                     DateFirstPurchase     object           67          0\n",
      "                       CommuteDistance     object            5          0\n",
      "                   ProductAlternateKey     object           22          0\n",
      "                           ProductName     object           22          0\n",
      "                    ProductSubcategory     object            2          0\n",
      "                   ProductCategoryName     object            1          0\n",
      "                          StandardCost     object            4          0\n",
      "                                 Color     object            3          0\n",
      "                             ListPrice     object            4          0\n",
      "                                  Size      int64            9          0\n",
      "                             SizeRange     object            5          0\n",
      "                                Weight     object           15          0\n",
      "                           ProductLine     object            2          0\n",
      "                                 Class     object            2          0\n",
      "                                 Style     object            1          0\n",
      "                             ModelName     object            3          0\n",
      "                  EnglishPromotionName     object            1          0\n"
     ],
     "output_type":"stream"
    }
   ],
   "metadata":{
    "datalore":{
     "node_id":"a3PSNrDwLD7TbW2tprBzDJ",
     "type":"CODE",
     "hide_input_from_viewers":false,
     "hide_output_from_viewers":false,
     "report_properties":{
      "rowId":"BtSjuTixhUhng8fpZVDrvI"
     }
    }
   }
  },
  {
   "cell_type":"code",
   "source":[
    "###Histograma para datos numéricos\n",
    "grafhisto(datos, 'NumberChildrenAtHome', 10)"
   ],
   "execution_count":16,
   "outputs":[
    {
     "data":{
      "image\/png":"[encoded data removed]"
     },
     "metadata":{
      "image\/png":{
       
      }
     },
     "output_type":"display_data"
    }
   ],
   "metadata":{
    "datalore":{
     "node_id":"XG7OjazsOAwZVR7HgnRjAI",
     "type":"CODE",
     "hide_input_from_viewers":false,
     "hide_output_from_viewers":false,
     "report_properties":{
      "rowId":"BYTqp2mdKT0vyHvOHilCCA"
     }
    }
   }
  },
  {
   "cell_type":"code",
   "source":[
    "###Limpieza de datos NAN numericos\n",
    "datos['NumberChildrenAtHome'] = limpiezaNum(datos, 'NumberChildrenAtHome', 'media')"
   ],
   "execution_count":7,
   "outputs":[
    
   ],
   "metadata":{
    "datalore":{
     "node_id":"HbmvGjsG4ZVjrjG3Jt1SOc",
     "type":"CODE",
     "hide_input_from_viewers":false,
     "hide_output_from_viewers":false,
     "report_properties":{
      "rowId":"RA2pBwodhiufXideFuwsez"
     }
    }
   }
  },
  {
   "cell_type":"code",
   "source":[
    "##Crear filtros por ocupación\n",
    "datos['EnglishOccupation'].value_counts()\n",
    "\n",
    "datosPro = datos[datos['EnglishOccupation'] == 'Professional']\n",
    "\n",
    "datosPro.head()\n",
    "\n",
    "##Filtro mas reducido por territorio\n",
    "datosPro['SalesTerritoryGroup'].value_counts()\n",
    "\n",
    "datosPro.head()\n",
    "\n",
    "##93 filas y 43 columnas\n",
    "#datosPro.shape\n",
    "\n",
    "##Hacer pregunta de investigación para reducir columnas\n",
    "##¿Cuál es el estatus marital de las personas profesionales\n",
    "#que mas realiza compras por cada territorio?\n",
    "##valores de compras, género, estatur marital y territorio\n",
    "\n",
    "datosPre = datosPro.iloc[:, [6,7,10,11,12,13,16,17,18]]\n",
    "\n",
    "datosPre.head()"
   ],
   "execution_count":8,
   "outputs":[
    {
     "data":{
      "text\/html":[
       "<div>\n",
       "<style scoped>\n",
       "    .dataframe tbody tr th:only-of-type {\n",
       "        vertical-align: middle;\n",
       "    }\n",
       "\n",
       "    .dataframe tbody tr th {\n",
       "        vertical-align: top;\n",
       "    }\n",
       "\n",
       "    .dataframe thead th {\n",
       "        text-align: right;\n",
       "    }\n",
       "<\/style>\n",
       "<table border=\"1\" class=\"dataframe\">\n",
       "  <thead>\n",
       "    <tr style=\"text-align: right;\">\n",
       "      <th><\/th>\n",
       "      <th>SalesTerritoryCountry<\/th>\n",
       "      <th>SalesTerritoryGroup<\/th>\n",
       "      <th>UnitPrice<\/th>\n",
       "      <th>ProductStandardCost<\/th>\n",
       "      <th>SalesAmount<\/th>\n",
       "      <th>TaxAmt<\/th>\n",
       "      <th>BirthDate<\/th>\n",
       "      <th>MaritalStatus<\/th>\n",
       "      <th>Gender<\/th>\n",
       "    <\/tr>\n",
       "  <\/thead>\n",
       "  <tbody>\n",
       "    <tr>\n",
       "      <th>2<\/th>\n",
       "      <td>United States<\/td>\n",
       "      <td>North America<\/td>\n",
       "      <td>3399,99<\/td>\n",
       "      <td>1912,1544<\/td>\n",
       "      <td>3399,99<\/td>\n",
       "      <td>271,9992<\/td>\n",
       "      <td>1\/06\/1952<\/td>\n",
       "      <td>Single<\/td>\n",
       "      <td>Female<\/td>\n",
       "    <\/tr>\n",
       "    <tr>\n",
       "      <th>4<\/th>\n",
       "      <td>Australia<\/td>\n",
       "      <td>Pacific<\/td>\n",
       "      <td>3399,99<\/td>\n",
       "      <td>1912,1544<\/td>\n",
       "      <td>3399,99<\/td>\n",
       "      <td>271,9992<\/td>\n",
       "      <td>14\/08\/1973<\/td>\n",
       "      <td>Single<\/td>\n",
       "      <td>Female<\/td>\n",
       "    <\/tr>\n",
       "    <tr>\n",
       "      <th>5<\/th>\n",
       "      <td>United States<\/td>\n",
       "      <td>North America<\/td>\n",
       "      <td>3578,27<\/td>\n",
       "      <td>2171,2942<\/td>\n",
       "      <td>3578,27<\/td>\n",
       "      <td>286,2616<\/td>\n",
       "      <td>14\/08\/1972<\/td>\n",
       "      <td>Married<\/td>\n",
       "      <td>Male<\/td>\n",
       "    <\/tr>\n",
       "    <tr>\n",
       "      <th>6<\/th>\n",
       "      <td>Australia<\/td>\n",
       "      <td>Pacific<\/td>\n",
       "      <td>NaN<\/td>\n",
       "      <td>2171,2942<\/td>\n",
       "      <td>3578,27<\/td>\n",
       "      <td>286,2616<\/td>\n",
       "      <td>24\/07\/1983<\/td>\n",
       "      <td>Single<\/td>\n",
       "      <td>Male<\/td>\n",
       "    <\/tr>\n",
       "    <tr>\n",
       "      <th>7<\/th>\n",
       "      <td>NaN<\/td>\n",
       "      <td>Pacific<\/td>\n",
       "      <td>NaN<\/td>\n",
       "      <td>1912,1544<\/td>\n",
       "      <td>3399,99<\/td>\n",
       "      <td>271,9992<\/td>\n",
       "      <td>3\/05\/1969<\/td>\n",
       "      <td>Married<\/td>\n",
       "      <td>Male<\/td>\n",
       "    <\/tr>\n",
       "  <\/tbody>\n",
       "<\/table>\n",
       "<\/div>"
      ]
     },
     "metadata":{
      
     },
     "output_type":"display_data"
    }
   ],
   "metadata":{
    "datalore":{
     "node_id":"3ARRvfxiivIhHbRtJru5gO",
     "type":"CODE",
     "hide_input_from_viewers":false,
     "hide_output_from_viewers":false,
     "report_properties":{
      "rowId":"Z07tzcQog99aauKGQbOWjK"
     }
    }
   }
  },
  {
   "cell_type":"markdown",
   "source":[
    "### Paso 4: Limpieza de Datos y EDA"
   ],
   "attachments":{
    
   },
   "metadata":{
    "datalore":{
     "node_id":"VxXfteCcs65JPrUYlmD0ZD",
     "type":"MD",
     "hide_input_from_viewers":false,
     "hide_output_from_viewers":false,
     "report_properties":{
      "rowId":"3P5qjTaTyZeR2r9QeHlJ49"
     }
    }
   }
  },
  {
   "cell_type":"code",
   "source":[
    "##Revisar datos NAN de nuevo dataframe\n",
    "datosNA(datosPre)"
   ],
   "execution_count":9,
   "outputs":[
    {
     "name":"stdout",
     "text":[
      "Dimensiones : 93 filas, 9 columnas\n",
      "Total de valores NAN: 4\n",
      "                     Nombre de columna Tipo de dato   # Distintos Valores NA\n",
      "                 SalesTerritoryCountry     object            6          2\n",
      "                   SalesTerritoryGroup     object            3          0\n",
      "                             UnitPrice     object            4          2\n",
      "                   ProductStandardCost     object            4          0\n",
      "                           SalesAmount     object            4          0\n",
      "                                TaxAmt     object            4          0\n",
      "                             BirthDate     object           88          0\n",
      "                         MaritalStatus     object            2          0\n",
      "                                Gender     object            3          0\n"
     ],
     "output_type":"stream"
    }
   ],
   "metadata":{
    "datalore":{
     "node_id":"XQzhLHJ32uTPbtawVAtAnE",
     "type":"CODE",
     "hide_input_from_viewers":false,
     "hide_output_from_viewers":false,
     "report_properties":{
      "rowId":"c9uee0oCV3iebu57GdF2ag"
     }
    }
   }
  },
  {
   "cell_type":"code",
   "source":[
    "###Revisar columnas para limpieza\n",
    "revCategoricos(datosPre, 'SalesTerritoryCountry')\n",
    "\n",
    "datosPre['SalesTerritoryCountry']= modaCat(datosPre, 'SalesTerritoryCountry')\n",
    "\n",
    "datosNA(datosPre)"
   ],
   "execution_count":10,
   "outputs":[
    {
     "name":"stdout",
     "text":[
      "Dimensiones : 93 filas, 9 columnas\n",
      "Total de valores NAN: 2\n",
      "                     Nombre de columna Tipo de dato   # Distintos Valores NA\n",
      "                 SalesTerritoryCountry     object            6          0\n",
      "                   SalesTerritoryGroup     object            3          0\n",
      "                             UnitPrice     object            4          2\n",
      "                   ProductStandardCost     object            4          0\n",
      "                           SalesAmount     object            4          0\n",
      "                                TaxAmt     object            4          0\n",
      "                             BirthDate     object           88          0\n",
      "                         MaritalStatus     object            2          0\n",
      "                                Gender     object            3          0\n"
     ],
     "output_type":"stream"
    }
   ],
   "metadata":{
    "datalore":{
     "node_id":"MirzlZGNaoXCvxgyqMtok8",
     "type":"CODE",
     "hide_input_from_viewers":false,
     "hide_output_from_viewers":false,
     "report_properties":{
      "rowId":"Dans5I3sya3nVJzYIoIRN3"
     }
    }
   }
  },
  {
   "cell_type":"code",
   "source":[
    "###Revisar unitprice\n",
    "revCategoricos(datosPre, 'UnitPrice')\n",
    "\n",
    "#datosPre['UnitPrice'] = pd.to_numeric(datosPre['UnitPrice'],errors = 'coerce')\n",
    "\n",
    "#datosPre['UnitPrice'] = datosPre['UnitPrice'].map(lambda x: float(x))\n",
    "\n",
    "def reemplazo(s):\n",
    "    i=str(s).find(',')\n",
    "    if(i>0):\n",
    "        return s[:i] + '.' + s[i+1:]\n",
    "    else :\n",
    "        return s \n",
    "    \n",
    "datosPre['UnitPrice']=datosPre['UnitPrice'].apply(reemplazo)\n",
    "\n",
    "datosPre.head()\n",
    "\n",
    "datosNA(datosPre)\n",
    "\n",
    "datosPre['UnitPrice']= datosPre['UnitPrice'].map(lambda x: float(x))\n",
    "\n",
    "datosNA(datosPre)"
   ],
   "execution_count":11,
   "outputs":[
    {
     "name":"stdout",
     "text":[
      "Dimensiones : 93 filas, 9 columnas\n",
      "Total de valores NAN: 2\n",
      "                     Nombre de columna Tipo de dato   # Distintos Valores NA\n",
      "                 SalesTerritoryCountry     object            6          0\n",
      "                   SalesTerritoryGroup     object            3          0\n",
      "                             UnitPrice     object            4          2\n",
      "                   ProductStandardCost     object            4          0\n",
      "                           SalesAmount     object            4          0\n",
      "                                TaxAmt     object            4          0\n",
      "                             BirthDate     object           88          0\n",
      "                         MaritalStatus     object            2          0\n",
      "                                Gender     object            3          0\n",
      "Dimensiones : 93 filas, 9 columnas\n",
      "Total de valores NAN: 2\n",
      "                     Nombre de columna Tipo de dato   # Distintos Valores NA\n",
      "                 SalesTerritoryCountry     object            6          0\n",
      "                   SalesTerritoryGroup     object            3          0\n",
      "                             UnitPrice    float64            4          2\n",
      "                   ProductStandardCost     object            4          0\n",
      "                           SalesAmount     object            4          0\n",
      "                                TaxAmt     object            4          0\n",
      "                             BirthDate     object           88          0\n",
      "                         MaritalStatus     object            2          0\n",
      "                                Gender     object            3          0\n"
     ],
     "output_type":"stream"
    }
   ],
   "metadata":{
    "datalore":{
     "node_id":"gctfonmoWW4AoEisZLryXX",
     "type":"CODE",
     "hide_input_from_viewers":false,
     "hide_output_from_viewers":false,
     "report_properties":{
      "rowId":"b6t8EGJP2GBzeudgJPqjRq"
     }
    }
   }
  },
  {
   "cell_type":"code",
   "source":[
    "###Revisar histograma de UnitPrice\n",
    "grafhisto(datosPre, 'UnitPrice', 10)\n",
    "\n",
    "datosPre['UnitPrice'] = limpiezaNum(datosPre, 'UnitPrice', 'mediana')\n",
    "\n",
    "datosNA(datosPre)"
   ],
   "execution_count":12,
   "outputs":[
    {
     "name":"stdout",
     "text":[
      "Dimensiones : 93 filas, 9 columnas\n",
      "Total de valores NAN: 0\n",
      "                     Nombre de columna Tipo de dato   # Distintos Valores NA\n",
      "                 SalesTerritoryCountry     object            6          0\n",
      "                   SalesTerritoryGroup     object            3          0\n",
      "                             UnitPrice    float64            4          0\n",
      "                   ProductStandardCost     object            4          0\n",
      "                           SalesAmount     object            4          0\n",
      "                                TaxAmt     object            4          0\n",
      "                             BirthDate     object           88          0\n",
      "                         MaritalStatus     object            2          0\n",
      "                                Gender     object            3          0\n"
     ],
     "output_type":"stream"
    },
    {
     "data":{
      "image\/png":"[encoded data removed]"
     },
     "metadata":{
      "image\/png":{
       
      }
     },
     "output_type":"display_data"
    }
   ],
   "metadata":{
    "datalore":{
     "node_id":"k1Nesysir53tiTNcXhdivy",
     "type":"CODE",
     "hide_input_from_viewers":false,
     "hide_output_from_viewers":false,
     "report_properties":{
      "rowId":"4vhCSJtAZ2Wn3N8SzrKNt6"
     }
    }
   }
  },
  {
   "cell_type":"code",
   "source":[
    "###Extraer año, mes y día de los cumpleaños\n",
    "datosPre['HappyBirthday'] = pd.to_datetime(datosPre['BirthDate'])\n",
    "##Eliminación de columna por nombre\n",
    "datosPre.drop(['BirthDate'], axis=1, inplace=True)\n",
    "##Revisar tipos de datos del dataframe\n",
    "datosPre.info()\n",
    "##Extraer año , mes y día por columna diferente.\n",
    "datosPre['DayB']=datosPre['HappyBirthday'].dt.day\n",
    "datosPre['MonthB']=datosPre['HappyBirthday'].dt.month\n",
    "datosPre['YearB']=datosPre['HappyBirthday'].dt.year\n",
    "\n",
    "##Se elimina columan HappyBirthday\n",
    "datosPre.drop(['HappyBirthday'], axis=1, inplace=True)\n",
    "\n",
    "datosPre.info()"
   ],
   "execution_count":13,
   "outputs":[
    {
     "name":"stdout",
     "text":[
      "<class 'pandas.core.frame.DataFrame'>\n",
      "Int64Index: 93 entries, 2 to 280\n",
      "Data columns (total 9 columns):\n",
      " #   Column                 Non-Null Count  Dtype         \n",
      "---  ------                 --------------  -----         \n",
      " 0   SalesTerritoryCountry  93 non-null     object        \n",
      " 1   SalesTerritoryGroup    93 non-null     object        \n",
      " 2   UnitPrice              93 non-null     float64       \n",
      " 3   ProductStandardCost    93 non-null     object        \n",
      " 4   SalesAmount            93 non-null     object        \n",
      " 5   TaxAmt                 93 non-null     object        \n",
      " 6   MaritalStatus          93 non-null     object        \n",
      " 7   Gender                 93 non-null     object        \n",
      " 8   HappyBirthday          93 non-null     datetime64[ns]\n",
      "dtypes: datetime64[ns](1), float64(1), object(7)\n",
      "memory usage: 7.3+ KB\n",
      "<class 'pandas.core.frame.DataFrame'>\n",
      "Int64Index: 93 entries, 2 to 280\n",
      "Data columns (total 11 columns):\n",
      " #   Column                 Non-Null Count  Dtype  \n",
      "---  ------                 --------------  -----  \n",
      " 0   SalesTerritoryCountry  93 non-null     object \n",
      " 1   SalesTerritoryGroup    93 non-null     object \n",
      " 2   UnitPrice              93 non-null     float64\n",
      " 3   ProductStandardCost    93 non-null     object \n",
      " 4   SalesAmount            93 non-null     object \n",
      " 5   TaxAmt                 93 non-null     object \n",
      " 6   MaritalStatus          93 non-null     object \n",
      " 7   Gender                 93 non-null     object \n",
      " 8   DayB                   93 non-null     int64  \n",
      " 9   MonthB                 93 non-null     int64  \n",
      " 10  YearB                  93 non-null     int64  \n",
      "dtypes: float64(1), int64(3), object(7)\n",
      "memory usage: 8.7+ KB\n"
     ],
     "output_type":"stream"
    }
   ],
   "metadata":{
    "datalore":{
     "node_id":"wy9l95njpviFFZcn9k7dPm",
     "type":"CODE",
     "hide_input_from_viewers":false,
     "hide_output_from_viewers":false,
     "report_properties":{
      "rowId":"HNSy0CoMp1MyjCCxU4cqof"
     }
    }
   }
  },
  {
   "cell_type":"code",
   "source":[
    "###Convertir a Dummies - SalesTerritoryCountry\n",
    "dataDummie = convDummies(datosPre, 'SalesTerritoryCountry')\n",
    "\n",
    "dataDummie.head()"
   ],
   "execution_count":14,
   "outputs":[
    {
     "data":{
      "text\/html":[
       "<div>\n",
       "<style scoped>\n",
       "    .dataframe tbody tr th:only-of-type {\n",
       "        vertical-align: middle;\n",
       "    }\n",
       "\n",
       "    .dataframe tbody tr th {\n",
       "        vertical-align: top;\n",
       "    }\n",
       "\n",
       "    .dataframe thead th {\n",
       "        text-align: right;\n",
       "    }\n",
       "<\/style>\n",
       "<table border=\"1\" class=\"dataframe\">\n",
       "  <thead>\n",
       "    <tr style=\"text-align: right;\">\n",
       "      <th><\/th>\n",
       "      <th>SalesTerritoryGroup<\/th>\n",
       "      <th>UnitPrice<\/th>\n",
       "      <th>ProductStandardCost<\/th>\n",
       "      <th>SalesAmount<\/th>\n",
       "      <th>TaxAmt<\/th>\n",
       "      <th>MaritalStatus<\/th>\n",
       "      <th>Gender<\/th>\n",
       "      <th>DayB<\/th>\n",
       "      <th>MonthB<\/th>\n",
       "      <th>YearB<\/th>\n",
       "      <th>Australia<\/th>\n",
       "      <th>Canada<\/th>\n",
       "      <th>France<\/th>\n",
       "      <th>Germany<\/th>\n",
       "      <th>United Kingdom<\/th>\n",
       "      <th>United States<\/th>\n",
       "    <\/tr>\n",
       "  <\/thead>\n",
       "  <tbody>\n",
       "    <tr>\n",
       "      <th>2<\/th>\n",
       "      <td>North America<\/td>\n",
       "      <td>3399.99<\/td>\n",
       "      <td>1912,1544<\/td>\n",
       "      <td>3399,99<\/td>\n",
       "      <td>271,9992<\/td>\n",
       "      <td>Single<\/td>\n",
       "      <td>Female<\/td>\n",
       "      <td>6<\/td>\n",
       "      <td>1<\/td>\n",
       "      <td>1952<\/td>\n",
       "      <td>0<\/td>\n",
       "      <td>0<\/td>\n",
       "      <td>0<\/td>\n",
       "      <td>0<\/td>\n",
       "      <td>0<\/td>\n",
       "      <td>1<\/td>\n",
       "    <\/tr>\n",
       "    <tr>\n",
       "      <th>4<\/th>\n",
       "      <td>Pacific<\/td>\n",
       "      <td>3399.99<\/td>\n",
       "      <td>1912,1544<\/td>\n",
       "      <td>3399,99<\/td>\n",
       "      <td>271,9992<\/td>\n",
       "      <td>Single<\/td>\n",
       "      <td>Female<\/td>\n",
       "      <td>14<\/td>\n",
       "      <td>8<\/td>\n",
       "      <td>1973<\/td>\n",
       "      <td>1<\/td>\n",
       "      <td>0<\/td>\n",
       "      <td>0<\/td>\n",
       "      <td>0<\/td>\n",
       "      <td>0<\/td>\n",
       "      <td>0<\/td>\n",
       "    <\/tr>\n",
       "    <tr>\n",
       "      <th>5<\/th>\n",
       "      <td>North America<\/td>\n",
       "      <td>3578.27<\/td>\n",
       "      <td>2171,2942<\/td>\n",
       "      <td>3578,27<\/td>\n",
       "      <td>286,2616<\/td>\n",
       "      <td>Married<\/td>\n",
       "      <td>Male<\/td>\n",
       "      <td>14<\/td>\n",
       "      <td>8<\/td>\n",
       "      <td>1972<\/td>\n",
       "      <td>0<\/td>\n",
       "      <td>0<\/td>\n",
       "      <td>0<\/td>\n",
       "      <td>0<\/td>\n",
       "      <td>0<\/td>\n",
       "      <td>1<\/td>\n",
       "    <\/tr>\n",
       "    <tr>\n",
       "      <th>6<\/th>\n",
       "      <td>Pacific<\/td>\n",
       "      <td>3578.27<\/td>\n",
       "      <td>2171,2942<\/td>\n",
       "      <td>3578,27<\/td>\n",
       "      <td>286,2616<\/td>\n",
       "      <td>Single<\/td>\n",
       "      <td>Male<\/td>\n",
       "      <td>24<\/td>\n",
       "      <td>7<\/td>\n",
       "      <td>1983<\/td>\n",
       "      <td>1<\/td>\n",
       "      <td>0<\/td>\n",
       "      <td>0<\/td>\n",
       "      <td>0<\/td>\n",
       "      <td>0<\/td>\n",
       "      <td>0<\/td>\n",
       "    <\/tr>\n",
       "    <tr>\n",
       "      <th>7<\/th>\n",
       "      <td>Pacific<\/td>\n",
       "      <td>3578.27<\/td>\n",
       "      <td>1912,1544<\/td>\n",
       "      <td>3399,99<\/td>\n",
       "      <td>271,9992<\/td>\n",
       "      <td>Married<\/td>\n",
       "      <td>Male<\/td>\n",
       "      <td>5<\/td>\n",
       "      <td>3<\/td>\n",
       "      <td>1969<\/td>\n",
       "      <td>0<\/td>\n",
       "      <td>0<\/td>\n",
       "      <td>0<\/td>\n",
       "      <td>0<\/td>\n",
       "      <td>0<\/td>\n",
       "      <td>1<\/td>\n",
       "    <\/tr>\n",
       "  <\/tbody>\n",
       "<\/table>\n",
       "<\/div>"
      ]
     },
     "metadata":{
      
     },
     "output_type":"display_data"
    }
   ],
   "metadata":{
    "datalore":{
     "node_id":"9WsyrYHAjY0FUN7YGUAxfX",
     "type":"CODE",
     "hide_input_from_viewers":false,
     "hide_output_from_viewers":false,
     "report_properties":{
      "rowId":"fK56F7PfeHCDq3BjEuf0Nn"
     }
    }
   }
  },
  {
   "cell_type":"code",
   "source":[
    "# Convierte la coma a punto por medio de una funcion que es remplazo_multiple para que cambie varias columnas al mismo tiempo \n",
    "\n",
    "def reemplazo(s):\n",
    "    i = str(s).find(',')\n",
    "    if i > 0:\n",
    "        return s[:i] + '.' + s[i+1:]\n",
    "    else:\n",
    "        return s\n",
    "\n",
    "def reemplazo_multiple(df, columnas):\n",
    "    for col in columnas:\n",
    "        df[col] = df[col].apply(reemplazo)\n",
    "    return df\n"
   ],
   "execution_count":15,
   "outputs":[
    
   ],
   "metadata":{
    "datalore":{
     "node_id":"18JOPq9VXVYldiQnF6RC9x",
     "type":"CODE",
     "hide_input_from_viewers":false,
     "hide_output_from_viewers":false,
     "report_properties":{
      "rowId":"5LQIJQRFoRhCmfn1UVXXeA"
     }
    }
   }
  },
  {
   "cell_type":"code",
   "source":[
    "# Llamado de la funcion remplazo_multiple y varias columnas que tenian coma las pasara la coma a punto \n",
    "dataDummie = reemplazo_multiple(dataDummie, ['ProductStandardCost', 'SalesAmount','TaxAmt','SalesAmount',])\n",
    "\n",
    "print(dataDummie)\n",
    "dataDummie.head()"
   ],
   "execution_count":16,
   "outputs":[
    {
     "name":"stdout",
     "text":[
      "    SalesTerritoryGroup  UnitPrice ProductStandardCost SalesAmount    TaxAmt  \\\n",
      "2         North America  3399.9900           1912.1544     3399.99  271.9992   \n",
      "4               Pacific  3399.9900           1912.1544     3399.99  271.9992   \n",
      "5         North America  3578.2700           2171.2942     3578.27  286.2616   \n",
      "6               Pacific  3578.2700           2171.2942     3578.27  286.2616   \n",
      "7               Pacific  3578.2700           1912.1544     3399.99  271.9992   \n",
      "..                  ...        ...                 ...         ...       ...   \n",
      "274       North America  3578.2700           2171.2942     3578.27  286.2616   \n",
      "275             Pacific  3578.2700           2171.2942     3578.27  286.2616   \n",
      "278       North America  3399.9900           1912.1544     3399.99  271.9992   \n",
      "279       North America   699.0982            413.1463    699.0982   55.9279   \n",
      "280       North America  3374.9900           1898.0944     3374.99  269.9992   \n",
      "\n",
      "    MaritalStatus  Gender  DayB  MonthB  YearB  Australia  Canada  France  \\\n",
      "2          Single  Female     6       1   1952          0       0       0   \n",
      "4          Single  Female    14       8   1973          1       0       0   \n",
      "5         Married    Male    14       8   1972          0       0       0   \n",
      "6          Single    Male    24       7   1983          1       0       0   \n",
      "7         Married    Male     5       3   1969          0       0       0   \n",
      "..            ...     ...   ...     ...    ...        ...     ...     ...   \n",
      "274        Single    Male     5      10   1980          0       0       0   \n",
      "275        Single  Female    18       8   1970          1       0       0   \n",
      "278       Married    Male    20       5   1961          0       0       0   \n",
      "279        Single    Male    17      10   1978          0       0       0   \n",
      "280       Married  Female    19       4   1961          0       0       0   \n",
      "\n",
      "     Germany  United Kingdom  United States  \n",
      "2          0               0              1  \n",
      "4          0               0              0  \n",
      "5          0               0              1  \n",
      "6          0               0              0  \n",
      "7          0               0              1  \n",
      "..       ...             ...            ...  \n",
      "274        0               0              1  \n",
      "275        0               0              0  \n",
      "278        0               0              1  \n",
      "279        0               0              1  \n",
      "280        0               0              1  \n",
      "\n",
      "[93 rows x 16 columns]\n"
     ],
     "output_type":"stream"
    },
    {
     "data":{
      "text\/html":[
       "<div>\n",
       "<style scoped>\n",
       "    .dataframe tbody tr th:only-of-type {\n",
       "        vertical-align: middle;\n",
       "    }\n",
       "\n",
       "    .dataframe tbody tr th {\n",
       "        vertical-align: top;\n",
       "    }\n",
       "\n",
       "    .dataframe thead th {\n",
       "        text-align: right;\n",
       "    }\n",
       "<\/style>\n",
       "<table border=\"1\" class=\"dataframe\">\n",
       "  <thead>\n",
       "    <tr style=\"text-align: right;\">\n",
       "      <th><\/th>\n",
       "      <th>SalesTerritoryGroup<\/th>\n",
       "      <th>UnitPrice<\/th>\n",
       "      <th>ProductStandardCost<\/th>\n",
       "      <th>SalesAmount<\/th>\n",
       "      <th>TaxAmt<\/th>\n",
       "      <th>MaritalStatus<\/th>\n",
       "      <th>Gender<\/th>\n",
       "      <th>DayB<\/th>\n",
       "      <th>MonthB<\/th>\n",
       "      <th>YearB<\/th>\n",
       "      <th>Australia<\/th>\n",
       "      <th>Canada<\/th>\n",
       "      <th>France<\/th>\n",
       "      <th>Germany<\/th>\n",
       "      <th>United Kingdom<\/th>\n",
       "      <th>United States<\/th>\n",
       "    <\/tr>\n",
       "  <\/thead>\n",
       "  <tbody>\n",
       "    <tr>\n",
       "      <th>2<\/th>\n",
       "      <td>North America<\/td>\n",
       "      <td>3399.99<\/td>\n",
       "      <td>1912.1544<\/td>\n",
       "      <td>3399.99<\/td>\n",
       "      <td>271.9992<\/td>\n",
       "      <td>Single<\/td>\n",
       "      <td>Female<\/td>\n",
       "      <td>6<\/td>\n",
       "      <td>1<\/td>\n",
       "      <td>1952<\/td>\n",
       "      <td>0<\/td>\n",
       "      <td>0<\/td>\n",
       "      <td>0<\/td>\n",
       "      <td>0<\/td>\n",
       "      <td>0<\/td>\n",
       "      <td>1<\/td>\n",
       "    <\/tr>\n",
       "    <tr>\n",
       "      <th>4<\/th>\n",
       "      <td>Pacific<\/td>\n",
       "      <td>3399.99<\/td>\n",
       "      <td>1912.1544<\/td>\n",
       "      <td>3399.99<\/td>\n",
       "      <td>271.9992<\/td>\n",
       "      <td>Single<\/td>\n",
       "      <td>Female<\/td>\n",
       "      <td>14<\/td>\n",
       "      <td>8<\/td>\n",
       "      <td>1973<\/td>\n",
       "      <td>1<\/td>\n",
       "      <td>0<\/td>\n",
       "      <td>0<\/td>\n",
       "      <td>0<\/td>\n",
       "      <td>0<\/td>\n",
       "      <td>0<\/td>\n",
       "    <\/tr>\n",
       "    <tr>\n",
       "      <th>5<\/th>\n",
       "      <td>North America<\/td>\n",
       "      <td>3578.27<\/td>\n",
       "      <td>2171.2942<\/td>\n",
       "      <td>3578.27<\/td>\n",
       "      <td>286.2616<\/td>\n",
       "      <td>Married<\/td>\n",
       "      <td>Male<\/td>\n",
       "      <td>14<\/td>\n",
       "      <td>8<\/td>\n",
       "      <td>1972<\/td>\n",
       "      <td>0<\/td>\n",
       "      <td>0<\/td>\n",
       "      <td>0<\/td>\n",
       "      <td>0<\/td>\n",
       "      <td>0<\/td>\n",
       "      <td>1<\/td>\n",
       "    <\/tr>\n",
       "    <tr>\n",
       "      <th>6<\/th>\n",
       "      <td>Pacific<\/td>\n",
       "      <td>3578.27<\/td>\n",
       "      <td>2171.2942<\/td>\n",
       "      <td>3578.27<\/td>\n",
       "      <td>286.2616<\/td>\n",
       "      <td>Single<\/td>\n",
       "      <td>Male<\/td>\n",
       "      <td>24<\/td>\n",
       "      <td>7<\/td>\n",
       "      <td>1983<\/td>\n",
       "      <td>1<\/td>\n",
       "      <td>0<\/td>\n",
       "      <td>0<\/td>\n",
       "      <td>0<\/td>\n",
       "      <td>0<\/td>\n",
       "      <td>0<\/td>\n",
       "    <\/tr>\n",
       "    <tr>\n",
       "      <th>7<\/th>\n",
       "      <td>Pacific<\/td>\n",
       "      <td>3578.27<\/td>\n",
       "      <td>1912.1544<\/td>\n",
       "      <td>3399.99<\/td>\n",
       "      <td>271.9992<\/td>\n",
       "      <td>Married<\/td>\n",
       "      <td>Male<\/td>\n",
       "      <td>5<\/td>\n",
       "      <td>3<\/td>\n",
       "      <td>1969<\/td>\n",
       "      <td>0<\/td>\n",
       "      <td>0<\/td>\n",
       "      <td>0<\/td>\n",
       "      <td>0<\/td>\n",
       "      <td>0<\/td>\n",
       "      <td>1<\/td>\n",
       "    <\/tr>\n",
       "  <\/tbody>\n",
       "<\/table>\n",
       "<\/div>"
      ]
     },
     "metadata":{
      
     },
     "output_type":"display_data"
    }
   ],
   "metadata":{
    "datalore":{
     "node_id":"cybXVQrbUs88MXxNN374zI",
     "type":"CODE",
     "hide_input_from_viewers":false,
     "hide_output_from_viewers":false,
     "report_properties":{
      "rowId":"CGCjUtJ4Kv7jjM46KQZpR1"
     }
    }
   }
  },
  {
   "cell_type":"code",
   "source":[
    "# Table en python para saber cuantos elementos  que hay en la columna SalesTerritoryGroup\n",
    "dataDummie['SalesTerritoryGroup'].value_counts()"
   ],
   "execution_count":17,
   "outputs":[
    {
     "data":{
      "text\/html":[
       "<pre>North America    50\n",
       "Pacific          22\n",
       "Europe           21\n",
       "Name: SalesTerritoryGroup, dtype: int64<\/pre>"
      ]
     },
     "metadata":{
      
     },
     "output_type":"display_data"
    }
   ],
   "metadata":{
    "datalore":{
     "node_id":"Pl2JXalJTBPyIc7C2DXNeZ",
     "type":"CODE",
     "hide_input_from_viewers":false,
     "hide_output_from_viewers":false,
     "report_properties":{
      "rowId":"7KynsoSm2ahrpadZX5iXxk"
     }
    }
   }
  },
  {
   "cell_type":"code",
   "source":[
    "# Sacar dummies a la comuna SalesTerritoryGroup en la cual genera 3 nuevas columnas en un nuevo dataframe llamado Dummiedos\n",
    "\n",
    "dataDummiedos = convDummies(dataDummie, 'SalesTerritoryGroup')\n",
    "dataDummiedos.head()"
   ],
   "execution_count":18,
   "outputs":[
    {
     "data":{
      "text\/html":[
       "<div>\n",
       "<style scoped>\n",
       "    .dataframe tbody tr th:only-of-type {\n",
       "        vertical-align: middle;\n",
       "    }\n",
       "\n",
       "    .dataframe tbody tr th {\n",
       "        vertical-align: top;\n",
       "    }\n",
       "\n",
       "    .dataframe thead th {\n",
       "        text-align: right;\n",
       "    }\n",
       "<\/style>\n",
       "<table border=\"1\" class=\"dataframe\">\n",
       "  <thead>\n",
       "    <tr style=\"text-align: right;\">\n",
       "      <th><\/th>\n",
       "      <th>UnitPrice<\/th>\n",
       "      <th>ProductStandardCost<\/th>\n",
       "      <th>SalesAmount<\/th>\n",
       "      <th>TaxAmt<\/th>\n",
       "      <th>MaritalStatus<\/th>\n",
       "      <th>Gender<\/th>\n",
       "      <th>DayB<\/th>\n",
       "      <th>MonthB<\/th>\n",
       "      <th>YearB<\/th>\n",
       "      <th>Australia<\/th>\n",
       "      <th>Canada<\/th>\n",
       "      <th>France<\/th>\n",
       "      <th>Germany<\/th>\n",
       "      <th>United Kingdom<\/th>\n",
       "      <th>United States<\/th>\n",
       "      <th>Europe<\/th>\n",
       "      <th>North America<\/th>\n",
       "      <th>Pacific<\/th>\n",
       "    <\/tr>\n",
       "  <\/thead>\n",
       "  <tbody>\n",
       "    <tr>\n",
       "      <th>2<\/th>\n",
       "      <td>3399.99<\/td>\n",
       "      <td>1912.1544<\/td>\n",
       "      <td>3399.99<\/td>\n",
       "      <td>271.9992<\/td>\n",
       "      <td>Single<\/td>\n",
       "      <td>Female<\/td>\n",
       "      <td>6<\/td>\n",
       "      <td>1<\/td>\n",
       "      <td>1952<\/td>\n",
       "      <td>0<\/td>\n",
       "      <td>0<\/td>\n",
       "      <td>0<\/td>\n",
       "      <td>0<\/td>\n",
       "      <td>0<\/td>\n",
       "      <td>1<\/td>\n",
       "      <td>0<\/td>\n",
       "      <td>1<\/td>\n",
       "      <td>0<\/td>\n",
       "    <\/tr>\n",
       "    <tr>\n",
       "      <th>4<\/th>\n",
       "      <td>3399.99<\/td>\n",
       "      <td>1912.1544<\/td>\n",
       "      <td>3399.99<\/td>\n",
       "      <td>271.9992<\/td>\n",
       "      <td>Single<\/td>\n",
       "      <td>Female<\/td>\n",
       "      <td>14<\/td>\n",
       "      <td>8<\/td>\n",
       "      <td>1973<\/td>\n",
       "      <td>1<\/td>\n",
       "      <td>0<\/td>\n",
       "      <td>0<\/td>\n",
       "      <td>0<\/td>\n",
       "      <td>0<\/td>\n",
       "      <td>0<\/td>\n",
       "      <td>0<\/td>\n",
       "      <td>0<\/td>\n",
       "      <td>1<\/td>\n",
       "    <\/tr>\n",
       "    <tr>\n",
       "      <th>5<\/th>\n",
       "      <td>3578.27<\/td>\n",
       "      <td>2171.2942<\/td>\n",
       "      <td>3578.27<\/td>\n",
       "      <td>286.2616<\/td>\n",
       "      <td>Married<\/td>\n",
       "      <td>Male<\/td>\n",
       "      <td>14<\/td>\n",
       "      <td>8<\/td>\n",
       "      <td>1972<\/td>\n",
       "      <td>0<\/td>\n",
       "      <td>0<\/td>\n",
       "      <td>0<\/td>\n",
       "      <td>0<\/td>\n",
       "      <td>0<\/td>\n",
       "      <td>1<\/td>\n",
       "      <td>0<\/td>\n",
       "      <td>1<\/td>\n",
       "      <td>0<\/td>\n",
       "    <\/tr>\n",
       "    <tr>\n",
       "      <th>6<\/th>\n",
       "      <td>3578.27<\/td>\n",
       "      <td>2171.2942<\/td>\n",
       "      <td>3578.27<\/td>\n",
       "      <td>286.2616<\/td>\n",
       "      <td>Single<\/td>\n",
       "      <td>Male<\/td>\n",
       "      <td>24<\/td>\n",
       "      <td>7<\/td>\n",
       "      <td>1983<\/td>\n",
       "      <td>1<\/td>\n",
       "      <td>0<\/td>\n",
       "      <td>0<\/td>\n",
       "      <td>0<\/td>\n",
       "      <td>0<\/td>\n",
       "      <td>0<\/td>\n",
       "      <td>0<\/td>\n",
       "      <td>0<\/td>\n",
       "      <td>1<\/td>\n",
       "    <\/tr>\n",
       "    <tr>\n",
       "      <th>7<\/th>\n",
       "      <td>3578.27<\/td>\n",
       "      <td>1912.1544<\/td>\n",
       "      <td>3399.99<\/td>\n",
       "      <td>271.9992<\/td>\n",
       "      <td>Married<\/td>\n",
       "      <td>Male<\/td>\n",
       "      <td>5<\/td>\n",
       "      <td>3<\/td>\n",
       "      <td>1969<\/td>\n",
       "      <td>0<\/td>\n",
       "      <td>0<\/td>\n",
       "      <td>0<\/td>\n",
       "      <td>0<\/td>\n",
       "      <td>0<\/td>\n",
       "      <td>1<\/td>\n",
       "      <td>0<\/td>\n",
       "      <td>0<\/td>\n",
       "      <td>1<\/td>\n",
       "    <\/tr>\n",
       "  <\/tbody>\n",
       "<\/table>\n",
       "<\/div>"
      ]
     },
     "metadata":{
      
     },
     "output_type":"display_data"
    }
   ],
   "metadata":{
    "datalore":{
     "node_id":"667mZOL9IHohIbZRrcIs4t",
     "type":"CODE",
     "hide_input_from_viewers":false,
     "hide_output_from_viewers":false,
     "report_properties":{
      "rowId":"6l5vkDVDfYyGEkdIbDDi50"
     }
    }
   }
  },
  {
   "cell_type":"code",
   "source":[
    "# Funcion para convertir de object a flotante \n",
    "def convertir_a_float(dataframe, columna):\n",
    "    dataframe[columna] = dataframe[columna].astype(float)\n",
    "    return dataframe\n",
    "\n",
    "# Toca convertir primero de object a float para luego convertir de float a entero "
   ],
   "execution_count":19,
   "outputs":[
    
   ],
   "metadata":{
    "datalore":{
     "node_id":"kvtEKuoMmlymGRToj5xJDt",
     "type":"CODE",
     "hide_input_from_viewers":false,
     "hide_output_from_viewers":false,
     "report_properties":{
      "rowId":"g1bVJffjVSnPe3Ti9ZNENA"
     }
    }
   }
  },
  {
   "cell_type":"code",
   "source":[
    "# Llamado de funcion de conversion a float una columna \n",
    "dataDummiedos = convertir_a_float(dataDummiedos, 'SalesAmount')\n",
    "dataDummiedos = convertir_a_float(dataDummiedos, 'ProductStandardCost')\n",
    "dataDummiedos = convertir_a_float(dataDummiedos, 'TaxAmt')\n",
    "dataDummiedos.info()"
   ],
   "execution_count":20,
   "outputs":[
    {
     "name":"stdout",
     "text":[
      "<class 'pandas.core.frame.DataFrame'>\n",
      "Int64Index: 93 entries, 2 to 280\n",
      "Data columns (total 18 columns):\n",
      " #   Column               Non-Null Count  Dtype  \n",
      "---  ------               --------------  -----  \n",
      " 0   UnitPrice            93 non-null     float64\n",
      " 1   ProductStandardCost  93 non-null     float64\n",
      " 2   SalesAmount          93 non-null     float64\n",
      " 3   TaxAmt               93 non-null     float64\n",
      " 4   MaritalStatus        93 non-null     object \n",
      " 5   Gender               93 non-null     object \n",
      " 6   DayB                 93 non-null     int64  \n",
      " 7   MonthB               93 non-null     int64  \n",
      " 8   YearB                93 non-null     int64  \n",
      " 9   Australia            93 non-null     uint8  \n",
      " 10  Canada               93 non-null     uint8  \n",
      " 11  France               93 non-null     uint8  \n",
      " 12  Germany              93 non-null     uint8  \n",
      " 13  United Kingdom       93 non-null     uint8  \n",
      " 14  United States        93 non-null     uint8  \n",
      " 15  Europe               93 non-null     uint8  \n",
      " 16  North America        93 non-null     uint8  \n",
      " 17  Pacific              93 non-null     uint8  \n",
      "dtypes: float64(4), int64(3), object(2), uint8(9)\n",
      "memory usage: 8.1+ KB\n"
     ],
     "output_type":"stream"
    }
   ],
   "metadata":{
    "datalore":{
     "node_id":"ydV6tWICZMzyycmFu0qn8H",
     "type":"CODE",
     "hide_input_from_viewers":false,
     "hide_output_from_viewers":false,
     "report_properties":{
      "rowId":"3BSpmJBYE1OK1VLNYHeqhE"
     }
    }
   }
  },
  {
   "cell_type":"code",
   "source":[
    "# Funccion para convertir de float a entero \n",
    "def convertir_a_enteros(dataframe, columna):\n",
    "    dataframe[columna] = dataframe[columna].astype(int)\n",
    "    return dataframe"
   ],
   "execution_count":21,
   "outputs":[
    
   ],
   "metadata":{
    "datalore":{
     "node_id":"OofjDmX0wdaM29CBVU3Sx5",
     "type":"CODE",
     "hide_input_from_viewers":false,
     "hide_output_from_viewers":false,
     "report_properties":{
      "rowId":"OykOIjTQYTvjxsQcBPrCMG"
     }
    }
   }
  },
  {
   "cell_type":"code",
   "source":[
    "# Llamado de funcion de conversion a int una columna\n",
    "dataDummiedos = convertir_a_enteros(dataDummiedos, 'UnitPrice')\n",
    "dataDummiedos = convertir_a_enteros(dataDummiedos, 'ProductStandardCost')\n",
    "dataDummiedos = convertir_a_enteros(dataDummiedos, 'SalesAmount')\n",
    "dataDummiedos = convertir_a_enteros(dataDummiedos, 'TaxAmt')\n",
    "\n",
    "dataDummiedos.info()"
   ],
   "execution_count":22,
   "outputs":[
    {
     "name":"stdout",
     "text":[
      "<class 'pandas.core.frame.DataFrame'>\n",
      "Int64Index: 93 entries, 2 to 280\n",
      "Data columns (total 18 columns):\n",
      " #   Column               Non-Null Count  Dtype \n",
      "---  ------               --------------  ----- \n",
      " 0   UnitPrice            93 non-null     int64 \n",
      " 1   ProductStandardCost  93 non-null     int64 \n",
      " 2   SalesAmount          93 non-null     int64 \n",
      " 3   TaxAmt               93 non-null     int64 \n",
      " 4   MaritalStatus        93 non-null     object\n",
      " 5   Gender               93 non-null     object\n",
      " 6   DayB                 93 non-null     int64 \n",
      " 7   MonthB               93 non-null     int64 \n",
      " 8   YearB                93 non-null     int64 \n",
      " 9   Australia            93 non-null     uint8 \n",
      " 10  Canada               93 non-null     uint8 \n",
      " 11  France               93 non-null     uint8 \n",
      " 12  Germany              93 non-null     uint8 \n",
      " 13  United Kingdom       93 non-null     uint8 \n",
      " 14  United States        93 non-null     uint8 \n",
      " 15  Europe               93 non-null     uint8 \n",
      " 16  North America        93 non-null     uint8 \n",
      " 17  Pacific              93 non-null     uint8 \n",
      "dtypes: int64(7), object(2), uint8(9)\n",
      "memory usage: 8.1+ KB\n"
     ],
     "output_type":"stream"
    }
   ],
   "metadata":{
    "datalore":{
     "node_id":"LKdcpTkN9Mntu654rvdnbb",
     "type":"CODE",
     "hide_input_from_viewers":false,
     "hide_output_from_viewers":false,
     "report_properties":{
      "rowId":"haTTO2EcK5SaZUEUgyaghe"
     }
    }
   }
  },
  {
   "cell_type":"code",
   "source":[
    "\n",
    "dataDummiedos['MaritalStatus'].value_counts()\n",
    "dataDummiedos['MaritalStatus'] = dataDummiedos['MaritalStatus'].map(lambda x: 1 if x == 'Married' else 0)"
   ],
   "execution_count":23,
   "outputs":[
    
   ],
   "metadata":{
    "datalore":{
     "node_id":"1vFXN0jl81L8mQExKdQUdk",
     "type":"CODE",
     "hide_input_from_viewers":false,
     "hide_output_from_viewers":false,
     "report_properties":{
      "rowId":"4RbtL72IQymjViUTdgW1bn"
     }
    }
   }
  },
  {
   "cell_type":"code",
   "source":[
    "dataDummiedos['MaritalStatus'].value_counts()"
   ],
   "execution_count":24,
   "outputs":[
    {
     "data":{
      "text\/html":[
       "<pre>1    48\n",
       "0    45\n",
       "Name: MaritalStatus, dtype: int64<\/pre>"
      ]
     },
     "metadata":{
      
     },
     "output_type":"display_data"
    }
   ],
   "metadata":{
    "datalore":{
     "node_id":"wPn2Y8Icb0dbf4q2fWfXPw",
     "type":"CODE",
     "hide_input_from_viewers":false,
     "hide_output_from_viewers":false,
     "report_properties":{
      "rowId":"8JLpv1h4bpF2Qhjfo7pdl6"
     }
    }
   }
  },
  {
   "cell_type":"code",
   "source":[
    "# Funcion para convertir columna de texto a numeros\n",
    "def convertir_columna_a_numeros(dataframe, columna, mapeo):\n",
    "    dataframe[columna] = dataframe[columna].map(mapeo)\n",
    "    return dataframe"
   ],
   "execution_count":25,
   "outputs":[
    
   ],
   "metadata":{
    "datalore":{
     "node_id":"35gwjazy7AVwTMHdr8A5aA",
     "type":"CODE",
     "hide_input_from_viewers":false,
     "hide_output_from_viewers":false,
     "report_properties":{
      "rowId":"zbkIl5Ek8BYCWoJd7MiLNi"
     }
    }
   }
  },
  {
   "cell_type":"code",
   "source":[
    "# codigo para convertir de texto a numerico primero mapeando para que sepa el nuevo dato y luego tranforma los datos \n",
    "mapeo = {'Male': 1, 'Female': 2, 'I': 3}\n",
    "dataDummiedos = convertir_columna_a_numeros(dataDummiedos, 'Gender', mapeo)"
   ],
   "execution_count":26,
   "outputs":[
    
   ],
   "metadata":{
    "datalore":{
     "node_id":"cfXdMCpthZSoQKmDDYviQe",
     "type":"CODE",
     "hide_input_from_viewers":false,
     "hide_output_from_viewers":false,
     "report_properties":{
      "rowId":"BEJT3eWaSeukPQ3GpPEUTx"
     }
    }
   }
  },
  {
   "cell_type":"code",
   "source":[
    "# ver el cambio de texto a numerico \n",
    "dataDummiedos['Gender'].value_counts()"
   ],
   "execution_count":27,
   "outputs":[
    {
     "data":{
      "text\/html":[
       "<pre>1    47\n",
       "2    45\n",
       "3     1\n",
       "Name: Gender, dtype: int64<\/pre>"
      ]
     },
     "metadata":{
      
     },
     "output_type":"display_data"
    }
   ],
   "metadata":{
    "datalore":{
     "node_id":"Tpw3wc3t5t4GoSLodJRazh",
     "type":"CODE",
     "hide_input_from_viewers":false,
     "hide_output_from_viewers":false,
     "report_properties":{
      "rowId":"sVdVZIn4u6n8rPTOhks95v"
     }
    }
   }
  },
  {
   "cell_type":"code",
   "source":[
    "\n",
    "#Correlacion con Metodo Pearson\n",
    "dataDummiedos['UnitPrice'].corr(dataDummiedos['MaritalStatus'])\n",
    "\n"
   ],
   "execution_count":28,
   "outputs":[
    {
     "data":{
      "text\/plain":[
       "0.012451538464510387"
      ]
     },
     "metadata":{
      
     },
     "output_type":"display_data"
    }
   ],
   "metadata":{
    "datalore":{
     "node_id":"jVBMRBO8E675ghgp8MIryM",
     "type":"CODE",
     "hide_input_from_viewers":false,
     "hide_output_from_viewers":false,
     "report_properties":{
      "rowId":"1gZsGdyQGjCeAamRwlbL1E"
     }
    }
   }
  },
  {
   "cell_type":"code",
   "source":[
    "#Correlacion con Metodo spearman\n",
    "dataDummiedos['UnitPrice'].corr(dataDummiedos['MaritalStatus'], method='spearman') "
   ],
   "execution_count":29,
   "outputs":[
    {
     "data":{
      "text\/plain":[
       "0.043487107205631106"
      ]
     },
     "metadata":{
      
     },
     "output_type":"display_data"
    }
   ],
   "metadata":{
    "datalore":{
     "node_id":"iWjlfRHwD2q5QawR1DioLh",
     "type":"CODE",
     "hide_input_from_viewers":false,
     "hide_output_from_viewers":false,
     "report_properties":{
      "rowId":"5UT7bm2T4rz0gxOZPAlDzs"
     }
    }
   }
  },
  {
   "cell_type":"code",
   "source":[
    "#Correlacion con Metodo Kendall \n",
    "dataDummiedos['UnitPrice'].corr(dataDummiedos['MaritalStatus'], method='kendall') "
   ],
   "execution_count":30,
   "outputs":[
    {
     "data":{
      "text\/plain":[
       "0.04249820967402666"
      ]
     },
     "metadata":{
      
     },
     "output_type":"display_data"
    }
   ],
   "metadata":{
    "datalore":{
     "node_id":"pmjoD42gFUJPkFR5y0HI07",
     "type":"CODE",
     "hide_input_from_viewers":false,
     "hide_output_from_viewers":false,
     "report_properties":{
      "rowId":"KbIhz9wxyRVEt9t63JB3DO"
     }
    }
   }
  },
  {
   "cell_type":"code",
   "source":[
    "#aplicar un correlacion datadummiedos mantiene nombres de la columnas\n",
    "dataDummiedos.corr()"
   ],
   "execution_count":31,
   "outputs":[
    {
     "data":{
      "text\/html":[
       "<div>\n",
       "<style scoped>\n",
       "    .dataframe tbody tr th:only-of-type {\n",
       "        vertical-align: middle;\n",
       "    }\n",
       "\n",
       "    .dataframe tbody tr th {\n",
       "        vertical-align: top;\n",
       "    }\n",
       "\n",
       "    .dataframe thead th {\n",
       "        text-align: right;\n",
       "    }\n",
       "<\/style>\n",
       "<table border=\"1\" class=\"dataframe\">\n",
       "  <thead>\n",
       "    <tr style=\"text-align: right;\">\n",
       "      <th><\/th>\n",
       "      <th>UnitPrice<\/th>\n",
       "      <th>ProductStandardCost<\/th>\n",
       "      <th>SalesAmount<\/th>\n",
       "      <th>TaxAmt<\/th>\n",
       "      <th>MaritalStatus<\/th>\n",
       "      <th>Gender<\/th>\n",
       "      <th>DayB<\/th>\n",
       "      <th>MonthB<\/th>\n",
       "      <th>YearB<\/th>\n",
       "      <th>Australia<\/th>\n",
       "      <th>Canada<\/th>\n",
       "      <th>France<\/th>\n",
       "      <th>Germany<\/th>\n",
       "      <th>United Kingdom<\/th>\n",
       "      <th>United States<\/th>\n",
       "      <th>Europe<\/th>\n",
       "      <th>North America<\/th>\n",
       "      <th>Pacific<\/th>\n",
       "    <\/tr>\n",
       "  <\/thead>\n",
       "  <tbody>\n",
       "    <tr>\n",
       "      <th>UnitPrice<\/th>\n",
       "      <td>1.000000<\/td>\n",
       "      <td>0.975004<\/td>\n",
       "      <td>0.999030<\/td>\n",
       "      <td>0.998934<\/td>\n",
       "      <td>0.012452<\/td>\n",
       "      <td>-0.001483<\/td>\n",
       "      <td>-0.053584<\/td>\n",
       "      <td>-0.111958<\/td>\n",
       "      <td>-0.148728<\/td>\n",
       "      <td>0.109777<\/td>\n",
       "      <td>0.004296<\/td>\n",
       "      <td>-0.002563<\/td>\n",
       "      <td>0.068597<\/td>\n",
       "      <td>0.024128<\/td>\n",
       "      <td>-0.144214<\/td>\n",
       "      <td>0.059722<\/td>\n",
       "      <td>-0.146964<\/td>\n",
       "      <td>0.113663<\/td>\n",
       "    <\/tr>\n",
       "    <tr>\n",
       "      <th>ProductStandardCost<\/th>\n",
       "      <td>0.975004<\/td>\n",
       "      <td>1.000000<\/td>\n",
       "      <td>0.978058<\/td>\n",
       "      <td>0.979504<\/td>\n",
       "      <td>0.010680<\/td>\n",
       "      <td>0.003774<\/td>\n",
       "      <td>-0.045789<\/td>\n",
       "      <td>-0.054851<\/td>\n",
       "      <td>-0.119394<\/td>\n",
       "      <td>0.144461<\/td>\n",
       "      <td>-0.035107<\/td>\n",
       "      <td>-0.049137<\/td>\n",
       "      <td>0.096180<\/td>\n",
       "      <td>0.006410<\/td>\n",
       "      <td>-0.135650<\/td>\n",
       "      <td>0.039674<\/td>\n",
       "      <td>-0.140336<\/td>\n",
       "      <td>0.125610<\/td>\n",
       "    <\/tr>\n",
       "    <tr>\n",
       "      <th>SalesAmount<\/th>\n",
       "      <td>0.999030<\/td>\n",
       "      <td>0.978058<\/td>\n",
       "      <td>1.000000<\/td>\n",
       "      <td>0.999975<\/td>\n",
       "      <td>0.008007<\/td>\n",
       "      <td>0.002970<\/td>\n",
       "      <td>-0.049568<\/td>\n",
       "      <td>-0.106035<\/td>\n",
       "      <td>-0.149760<\/td>\n",
       "      <td>0.112263<\/td>\n",
       "      <td>0.005606<\/td>\n",
       "      <td>-0.001357<\/td>\n",
       "      <td>0.070009<\/td>\n",
       "      <td>0.025440<\/td>\n",
       "      <td>-0.149068<\/td>\n",
       "      <td>0.062205<\/td>\n",
       "      <td>-0.142022<\/td>\n",
       "      <td>0.105422<\/td>\n",
       "    <\/tr>\n",
       "    <tr>\n",
       "      <th>TaxAmt<\/th>\n",
       "      <td>0.998934<\/td>\n",
       "      <td>0.979504<\/td>\n",
       "      <td>0.999975<\/td>\n",
       "      <td>1.000000<\/td>\n",
       "      <td>0.008103<\/td>\n",
       "      <td>0.002999<\/td>\n",
       "      <td>-0.049475<\/td>\n",
       "      <td>-0.104376<\/td>\n",
       "      <td>-0.148839<\/td>\n",
       "      <td>0.113435<\/td>\n",
       "      <td>0.004231<\/td>\n",
       "      <td>-0.002978<\/td>\n",
       "      <td>0.070947<\/td>\n",
       "      <td>0.024813<\/td>\n",
       "      <td>-0.148720<\/td>\n",
       "      <td>0.061486<\/td>\n",
       "      <td>-0.142067<\/td>\n",
       "      <td>0.106181<\/td>\n",
       "    <\/tr>\n",
       "    <tr>\n",
       "      <th>MaritalStatus<\/th>\n",
       "      <td>0.012452<\/td>\n",
       "      <td>0.010680<\/td>\n",
       "      <td>0.008007<\/td>\n",
       "      <td>0.008103<\/td>\n",
       "      <td>1.000000<\/td>\n",
       "      <td>-0.175841<\/td>\n",
       "      <td>0.119681<\/td>\n",
       "      <td>-0.090318<\/td>\n",
       "      <td>-0.213389<\/td>\n",
       "      <td>-0.249006<\/td>\n",
       "      <td>0.031570<\/td>\n",
       "      <td>-0.008476<\/td>\n",
       "      <td>0.220308<\/td>\n",
       "      <td>0.031570<\/td>\n",
       "      <td>0.055607<\/td>\n",
       "      <td>0.162684<\/td>\n",
       "      <td>0.051508<\/td>\n",
       "      <td>-0.220489<\/td>\n",
       "    <\/tr>\n",
       "    <tr>\n",
       "      <th>Gender<\/th>\n",
       "      <td>-0.001483<\/td>\n",
       "      <td>0.003774<\/td>\n",
       "      <td>0.002970<\/td>\n",
       "      <td>0.002999<\/td>\n",
       "      <td>-0.175841<\/td>\n",
       "      <td>1.000000<\/td>\n",
       "      <td>0.100208<\/td>\n",
       "      <td>0.173254<\/td>\n",
       "      <td>0.082387<\/td>\n",
       "      <td>0.117822<\/td>\n",
       "      <td>0.036168<\/td>\n",
       "      <td>-0.002710<\/td>\n",
       "      <td>-0.076766<\/td>\n",
       "      <td>0.036168<\/td>\n",
       "      <td>-0.092446<\/td>\n",
       "      <td>-0.030252<\/td>\n",
       "      <td>-0.052519<\/td>\n",
       "      <td>0.091379<\/td>\n",
       "    <\/tr>\n",
       "    <tr>\n",
       "      <th>DayB<\/th>\n",
       "      <td>-0.053584<\/td>\n",
       "      <td>-0.045789<\/td>\n",
       "      <td>-0.049568<\/td>\n",
       "      <td>-0.049475<\/td>\n",
       "      <td>0.119681<\/td>\n",
       "      <td>0.100208<\/td>\n",
       "      <td>1.000000<\/td>\n",
       "      <td>0.167307<\/td>\n",
       "      <td>-0.215287<\/td>\n",
       "      <td>-0.112862<\/td>\n",
       "      <td>0.027998<\/td>\n",
       "      <td>0.025771<\/td>\n",
       "      <td>0.006774<\/td>\n",
       "      <td>0.013119<\/td>\n",
       "      <td>0.056303<\/td>\n",
       "      <td>0.027963<\/td>\n",
       "      <td>0.090075<\/td>\n",
       "      <td>-0.133190<\/td>\n",
       "    <\/tr>\n",
       "    <tr>\n",
       "      <th>MonthB<\/th>\n",
       "      <td>-0.111958<\/td>\n",
       "      <td>-0.054851<\/td>\n",
       "      <td>-0.106035<\/td>\n",
       "      <td>-0.104376<\/td>\n",
       "      <td>-0.090318<\/td>\n",
       "      <td>0.173254<\/td>\n",
       "      <td>0.167307<\/td>\n",
       "      <td>1.000000<\/td>\n",
       "      <td>0.102157<\/td>\n",
       "      <td>-0.016608<\/td>\n",
       "      <td>0.131601<\/td>\n",
       "      <td>-0.197857<\/td>\n",
       "      <td>-0.049530<\/td>\n",
       "      <td>-0.092121<\/td>\n",
       "      <td>0.118218<\/td>\n",
       "      <td>-0.207598<\/td>\n",
       "      <td>0.215875<\/td>\n",
       "      <td>-0.049020<\/td>\n",
       "    <\/tr>\n",
       "    <tr>\n",
       "      <th>YearB<\/th>\n",
       "      <td>-0.148728<\/td>\n",
       "      <td>-0.119394<\/td>\n",
       "      <td>-0.149760<\/td>\n",
       "      <td>-0.148839<\/td>\n",
       "      <td>-0.213389<\/td>\n",
       "      <td>0.082387<\/td>\n",
       "      <td>-0.215287<\/td>\n",
       "      <td>0.102157<\/td>\n",
       "      <td>1.000000<\/td>\n",
       "      <td>0.418322<\/td>\n",
       "      <td>0.120266<\/td>\n",
       "      <td>-0.017500<\/td>\n",
       "      <td>-0.175924<\/td>\n",
       "      <td>-0.205504<\/td>\n",
       "      <td>-0.197867<\/td>\n",
       "      <td>-0.257932<\/td>\n",
       "      <td>-0.139313<\/td>\n",
       "      <td>0.417214<\/td>\n",
       "    <\/tr>\n",
       "    <tr>\n",
       "      <th>Australia<\/th>\n",
       "      <td>0.109777<\/td>\n",
       "      <td>0.144461<\/td>\n",
       "      <td>0.112263<\/td>\n",
       "      <td>0.113435<\/td>\n",
       "      <td>-0.249006<\/td>\n",
       "      <td>0.117822<\/td>\n",
       "      <td>-0.112862<\/td>\n",
       "      <td>-0.016608<\/td>\n",
       "      <td>0.418322<\/td>\n",
       "      <td>1.000000<\/td>\n",
       "      <td>-0.154079<\/td>\n",
       "      <td>-0.141827<\/td>\n",
       "      <td>-0.165683<\/td>\n",
       "      <td>-0.154079<\/td>\n",
       "      <td>-0.511766<\/td>\n",
       "      <td>-0.291667<\/td>\n",
       "      <td>-0.582364<\/td>\n",
       "      <td>0.970200<\/td>\n",
       "    <\/tr>\n",
       "    <tr>\n",
       "      <th>Canada<\/th>\n",
       "      <td>0.004296<\/td>\n",
       "      <td>-0.035107<\/td>\n",
       "      <td>0.005606<\/td>\n",
       "      <td>0.004231<\/td>\n",
       "      <td>0.031570<\/td>\n",
       "      <td>0.036168<\/td>\n",
       "      <td>0.027998<\/td>\n",
       "      <td>0.131601<\/td>\n",
       "      <td>0.120266<\/td>\n",
       "      <td>-0.154079<\/td>\n",
       "      <td>1.000000<\/td>\n",
       "      <td>-0.074923<\/td>\n",
       "      <td>-0.087526<\/td>\n",
       "      <td>-0.081395<\/td>\n",
       "      <td>-0.270351<\/td>\n",
       "      <td>-0.154079<\/td>\n",
       "      <td>0.264575<\/td>\n",
       "      <td>-0.158812<\/td>\n",
       "    <\/tr>\n",
       "    <tr>\n",
       "      <th>France<\/th>\n",
       "      <td>-0.002563<\/td>\n",
       "      <td>-0.049137<\/td>\n",
       "      <td>-0.001357<\/td>\n",
       "      <td>-0.002978<\/td>\n",
       "      <td>-0.008476<\/td>\n",
       "      <td>-0.002710<\/td>\n",
       "      <td>0.025771<\/td>\n",
       "      <td>-0.197857<\/td>\n",
       "      <td>-0.017500<\/td>\n",
       "      <td>-0.141827<\/td>\n",
       "      <td>-0.074923<\/td>\n",
       "      <td>1.000000<\/td>\n",
       "      <td>-0.080566<\/td>\n",
       "      <td>-0.074923<\/td>\n",
       "      <td>-0.248854<\/td>\n",
       "      <td>0.486265<\/td>\n",
       "      <td>-0.283183<\/td>\n",
       "      <td>-0.146183<\/td>\n",
       "    <\/tr>\n",
       "    <tr>\n",
       "      <th>Germany<\/th>\n",
       "      <td>0.068597<\/td>\n",
       "      <td>0.096180<\/td>\n",
       "      <td>0.070009<\/td>\n",
       "      <td>0.070947<\/td>\n",
       "      <td>0.220308<\/td>\n",
       "      <td>-0.076766<\/td>\n",
       "      <td>0.006774<\/td>\n",
       "      <td>-0.049530<\/td>\n",
       "      <td>-0.175924<\/td>\n",
       "      <td>-0.165683<\/td>\n",
       "      <td>-0.087526<\/td>\n",
       "      <td>-0.080566<\/td>\n",
       "      <td>1.000000<\/td>\n",
       "      <td>-0.087526<\/td>\n",
       "      <td>-0.290713<\/td>\n",
       "      <td>0.568057<\/td>\n",
       "      <td>-0.330816<\/td>\n",
       "      <td>-0.170772<\/td>\n",
       "    <\/tr>\n",
       "    <tr>\n",
       "      <th>United Kingdom<\/th>\n",
       "      <td>0.024128<\/td>\n",
       "      <td>0.006410<\/td>\n",
       "      <td>0.025440<\/td>\n",
       "      <td>0.024813<\/td>\n",
       "      <td>0.031570<\/td>\n",
       "      <td>0.036168<\/td>\n",
       "      <td>0.013119<\/td>\n",
       "      <td>-0.092121<\/td>\n",
       "      <td>-0.205504<\/td>\n",
       "      <td>-0.154079<\/td>\n",
       "      <td>-0.081395<\/td>\n",
       "      <td>-0.074923<\/td>\n",
       "      <td>-0.087526<\/td>\n",
       "      <td>1.000000<\/td>\n",
       "      <td>-0.270351<\/td>\n",
       "      <td>0.528271<\/td>\n",
       "      <td>-0.307646<\/td>\n",
       "      <td>-0.158812<\/td>\n",
       "    <\/tr>\n",
       "    <tr>\n",
       "      <th>United States<\/th>\n",
       "      <td>-0.144214<\/td>\n",
       "      <td>-0.135650<\/td>\n",
       "      <td>-0.149068<\/td>\n",
       "      <td>-0.148720<\/td>\n",
       "      <td>0.055607<\/td>\n",
       "      <td>-0.092446<\/td>\n",
       "      <td>0.056303<\/td>\n",
       "      <td>0.118218<\/td>\n",
       "      <td>-0.197867<\/td>\n",
       "      <td>-0.511766<\/td>\n",
       "      <td>-0.270351<\/td>\n",
       "      <td>-0.248854<\/td>\n",
       "      <td>-0.290713<\/td>\n",
       "      <td>-0.270351<\/td>\n",
       "      <td>1.000000<\/td>\n",
       "      <td>-0.511766<\/td>\n",
       "      <td>0.835579<\/td>\n",
       "      <td>-0.476808<\/td>\n",
       "    <\/tr>\n",
       "    <tr>\n",
       "      <th>Europe<\/th>\n",
       "      <td>0.059722<\/td>\n",
       "      <td>0.039674<\/td>\n",
       "      <td>0.062205<\/td>\n",
       "      <td>0.061486<\/td>\n",
       "      <td>0.162684<\/td>\n",
       "      <td>-0.030252<\/td>\n",
       "      <td>0.027963<\/td>\n",
       "      <td>-0.207598<\/td>\n",
       "      <td>-0.257932<\/td>\n",
       "      <td>-0.291667<\/td>\n",
       "      <td>-0.154079<\/td>\n",
       "      <td>0.486265<\/td>\n",
       "      <td>0.568057<\/td>\n",
       "      <td>0.528271<\/td>\n",
       "      <td>-0.511766<\/td>\n",
       "      <td>1.000000<\/td>\n",
       "      <td>-0.582364<\/td>\n",
       "      <td>-0.300625<\/td>\n",
       "    <\/tr>\n",
       "    <tr>\n",
       "      <th>North America<\/th>\n",
       "      <td>-0.146964<\/td>\n",
       "      <td>-0.140336<\/td>\n",
       "      <td>-0.142022<\/td>\n",
       "      <td>-0.142067<\/td>\n",
       "      <td>0.051508<\/td>\n",
       "      <td>-0.052519<\/td>\n",
       "      <td>0.090075<\/td>\n",
       "      <td>0.215875<\/td>\n",
       "      <td>-0.139313<\/td>\n",
       "      <td>-0.582364<\/td>\n",
       "      <td>0.264575<\/td>\n",
       "      <td>-0.283183<\/td>\n",
       "      <td>-0.330816<\/td>\n",
       "      <td>-0.307646<\/td>\n",
       "      <td>0.835579<\/td>\n",
       "      <td>-0.582364<\/td>\n",
       "      <td>1.000000<\/td>\n",
       "      <td>-0.600251<\/td>\n",
       "    <\/tr>\n",
       "    <tr>\n",
       "      <th>Pacific<\/th>\n",
       "      <td>0.113663<\/td>\n",
       "      <td>0.125610<\/td>\n",
       "      <td>0.105422<\/td>\n",
       "      <td>0.106181<\/td>\n",
       "      <td>-0.220489<\/td>\n",
       "      <td>0.091379<\/td>\n",
       "      <td>-0.133190<\/td>\n",
       "      <td>-0.049020<\/td>\n",
       "      <td>0.417214<\/td>\n",
       "      <td>0.970200<\/td>\n",
       "      <td>-0.158812<\/td>\n",
       "      <td>-0.146183<\/td>\n",
       "      <td>-0.170772<\/td>\n",
       "      <td>-0.158812<\/td>\n",
       "      <td>-0.476808<\/td>\n",
       "      <td>-0.300625<\/td>\n",
       "      <td>-0.600251<\/td>\n",
       "      <td>1.000000<\/td>\n",
       "    <\/tr>\n",
       "  <\/tbody>\n",
       "<\/table>\n",
       "<\/div>"
      ]
     },
     "metadata":{
      
     },
     "output_type":"display_data"
    }
   ],
   "metadata":{
    "datalore":{
     "node_id":"CpJYRBiIU99yrnVfTcxo77",
     "type":"CODE",
     "hide_input_from_viewers":false,
     "hide_output_from_viewers":false,
     "report_properties":{
      "rowId":"zY7Idgvg88YJCpUk3Dp6xa"
     }
    }
   }
  },
  {
   "cell_type":"code",
   "source":[
    "#aplicar un correlacion datadummiedos no mantiene nombres de la columnas\n",
    "np.corrcoef(dataDummiedos)"
   ],
   "execution_count":32,
   "outputs":[
    {
     "data":{
      "text\/html":[
       "<pre>array([[1.        , 0.99999021, 0.99941657, ..., 0.9999947 , 0.7010328 ,\n",
       "        0.999987  ],\n",
       "       [0.99999021, 1.        , 0.99933275, ..., 0.99999632, 0.70383836,\n",
       "        0.99999891],\n",
       "       [0.99941657, 0.99933275, 1.        , ..., 0.99938177, 0.68718919,\n",
       "        0.99932094],\n",
       "       ...,\n",
       "       [0.9999947 , 0.99999632, 0.99938177, ..., 1.        , 0.70221064,\n",
       "        0.99999612],\n",
       "       [0.7010328 , 0.70383836, 0.68718919, ..., 0.70221064, 1.        ,\n",
       "        0.70417394],\n",
       "       [0.999987  , 0.99999891, 0.99932094, ..., 0.99999612, 0.70417394,\n",
       "        1.        ]])<\/pre>"
      ]
     },
     "metadata":{
      
     },
     "output_type":"display_data"
    }
   ],
   "metadata":{
    "datalore":{
     "node_id":"BPwzOTzjqGXdpYCpV0KxPR",
     "type":"CODE",
     "hide_input_from_viewers":false,
     "hide_output_from_viewers":false,
     "report_properties":{
      "rowId":"oBn6a5sV6VIaAMBK5VvHTj"
     }
    }
   }
  },
  {
   "cell_type":"code",
   "source":[
    "# en espera a saber \n",
    "##dataDummiedos['UnitPrice'] = columna_normalizada.T"
   ],
   "execution_count":null,
   "outputs":[
    
   ],
   "metadata":{
    "datalore":{
     "node_id":"f3medWYKLrBF3Y8K1mwBxY",
     "type":"CODE",
     "hide_input_from_viewers":false,
     "hide_output_from_viewers":false,
     "report_properties":{
      "rowId":"keZeA5dlnGNRipT7zTeVTm"
     }
    }
   }
  },
  {
   "cell_type":"code",
   "source":[
    "dataDummiedos.head()"
   ],
   "execution_count":34,
   "outputs":[
    {
     "data":{
      "text\/html":[
       "<div>\n",
       "<style scoped>\n",
       "    .dataframe tbody tr th:only-of-type {\n",
       "        vertical-align: middle;\n",
       "    }\n",
       "\n",
       "    .dataframe tbody tr th {\n",
       "        vertical-align: top;\n",
       "    }\n",
       "\n",
       "    .dataframe thead th {\n",
       "        text-align: right;\n",
       "    }\n",
       "<\/style>\n",
       "<table border=\"1\" class=\"dataframe\">\n",
       "  <thead>\n",
       "    <tr style=\"text-align: right;\">\n",
       "      <th><\/th>\n",
       "      <th>UnitPrice<\/th>\n",
       "      <th>ProductStandardCost<\/th>\n",
       "      <th>SalesAmount<\/th>\n",
       "      <th>TaxAmt<\/th>\n",
       "      <th>MaritalStatus<\/th>\n",
       "      <th>Gender<\/th>\n",
       "      <th>DayB<\/th>\n",
       "      <th>MonthB<\/th>\n",
       "      <th>YearB<\/th>\n",
       "      <th>Australia<\/th>\n",
       "      <th>Canada<\/th>\n",
       "      <th>France<\/th>\n",
       "      <th>Germany<\/th>\n",
       "      <th>United Kingdom<\/th>\n",
       "      <th>United States<\/th>\n",
       "      <th>Europe<\/th>\n",
       "      <th>North America<\/th>\n",
       "      <th>Pacific<\/th>\n",
       "    <\/tr>\n",
       "  <\/thead>\n",
       "  <tbody>\n",
       "    <tr>\n",
       "      <th>2<\/th>\n",
       "      <td>3399<\/td>\n",
       "      <td>1912<\/td>\n",
       "      <td>3399<\/td>\n",
       "      <td>271<\/td>\n",
       "      <td>0<\/td>\n",
       "      <td>2<\/td>\n",
       "      <td>6<\/td>\n",
       "      <td>1<\/td>\n",
       "      <td>1952<\/td>\n",
       "      <td>0<\/td>\n",
       "      <td>0<\/td>\n",
       "      <td>0<\/td>\n",
       "      <td>0<\/td>\n",
       "      <td>0<\/td>\n",
       "      <td>1<\/td>\n",
       "      <td>0<\/td>\n",
       "      <td>1<\/td>\n",
       "      <td>0<\/td>\n",
       "    <\/tr>\n",
       "    <tr>\n",
       "      <th>4<\/th>\n",
       "      <td>3399<\/td>\n",
       "      <td>1912<\/td>\n",
       "      <td>3399<\/td>\n",
       "      <td>271<\/td>\n",
       "      <td>0<\/td>\n",
       "      <td>2<\/td>\n",
       "      <td>14<\/td>\n",
       "      <td>8<\/td>\n",
       "      <td>1973<\/td>\n",
       "      <td>1<\/td>\n",
       "      <td>0<\/td>\n",
       "      <td>0<\/td>\n",
       "      <td>0<\/td>\n",
       "      <td>0<\/td>\n",
       "      <td>0<\/td>\n",
       "      <td>0<\/td>\n",
       "      <td>0<\/td>\n",
       "      <td>1<\/td>\n",
       "    <\/tr>\n",
       "    <tr>\n",
       "      <th>5<\/th>\n",
       "      <td>3578<\/td>\n",
       "      <td>2171<\/td>\n",
       "      <td>3578<\/td>\n",
       "      <td>286<\/td>\n",
       "      <td>1<\/td>\n",
       "      <td>1<\/td>\n",
       "      <td>14<\/td>\n",
       "      <td>8<\/td>\n",
       "      <td>1972<\/td>\n",
       "      <td>0<\/td>\n",
       "      <td>0<\/td>\n",
       "      <td>0<\/td>\n",
       "      <td>0<\/td>\n",
       "      <td>0<\/td>\n",
       "      <td>1<\/td>\n",
       "      <td>0<\/td>\n",
       "      <td>1<\/td>\n",
       "      <td>0<\/td>\n",
       "    <\/tr>\n",
       "    <tr>\n",
       "      <th>6<\/th>\n",
       "      <td>3578<\/td>\n",
       "      <td>2171<\/td>\n",
       "      <td>3578<\/td>\n",
       "      <td>286<\/td>\n",
       "      <td>0<\/td>\n",
       "      <td>1<\/td>\n",
       "      <td>24<\/td>\n",
       "      <td>7<\/td>\n",
       "      <td>1983<\/td>\n",
       "      <td>1<\/td>\n",
       "      <td>0<\/td>\n",
       "      <td>0<\/td>\n",
       "      <td>0<\/td>\n",
       "      <td>0<\/td>\n",
       "      <td>0<\/td>\n",
       "      <td>0<\/td>\n",
       "      <td>0<\/td>\n",
       "      <td>1<\/td>\n",
       "    <\/tr>\n",
       "    <tr>\n",
       "      <th>7<\/th>\n",
       "      <td>3578<\/td>\n",
       "      <td>1912<\/td>\n",
       "      <td>3399<\/td>\n",
       "      <td>271<\/td>\n",
       "      <td>1<\/td>\n",
       "      <td>1<\/td>\n",
       "      <td>5<\/td>\n",
       "      <td>3<\/td>\n",
       "      <td>1969<\/td>\n",
       "      <td>0<\/td>\n",
       "      <td>0<\/td>\n",
       "      <td>0<\/td>\n",
       "      <td>0<\/td>\n",
       "      <td>0<\/td>\n",
       "      <td>1<\/td>\n",
       "      <td>0<\/td>\n",
       "      <td>0<\/td>\n",
       "      <td>1<\/td>\n",
       "    <\/tr>\n",
       "  <\/tbody>\n",
       "<\/table>\n",
       "<\/div>"
      ]
     },
     "metadata":{
      
     },
     "output_type":"display_data"
    }
   ],
   "metadata":{
    "datalore":{
     "node_id":"ZKk7vrYqml2bo2DXIjDsls",
     "type":"CODE",
     "hide_input_from_viewers":false,
     "hide_output_from_viewers":false,
     "report_properties":{
      "rowId":"X5CnvWmjBBak06XdvSCxhg"
     }
    }
   }
  },
  {
   "cell_type":"code",
   "source":[
    "#leer la data o importar la data\n",
    "df_from_csv = pd.read_csv('datalimpiadummiedos.csv')\n",
    "\n",
    "# Imprimir el dataframe\n",
    "print(df_from_csv)"
   ],
   "execution_count":null,
   "outputs":[
    {
     "name":"stdout",
     "text":[
      "    UnitPrice  ProductStandardCost  SalesAmount    TaxAmt  MaritalStatus  \\\n",
      "0   -0.202266            -0.649377    -0.197712 -0.213174      -1.027228   \n",
      "1   -0.202266            -0.649377    -0.197712 -0.213174      -1.027228   \n",
      "2    0.222394             0.311819     0.226973  0.230012       0.963026   \n",
      "3    0.222394             0.311819     0.226973  0.230012      -1.027228   \n",
      "4    0.222394            -0.649377    -0.197712 -0.213174       0.963026   \n",
      "..        ...                  ...          ...       ...            ...   \n",
      "88   0.222394             0.311819     0.226973  0.230012      -1.027228   \n",
      "89   0.222394             0.311819     0.226973  0.230012      -1.027228   \n",
      "90  -0.202266            -0.649377    -0.197712 -0.213174       0.963026   \n",
      "91  -6.607754            -6.212434    -6.603564 -6.595053      -1.027228   \n",
      "92  -0.261577            -0.701333    -0.257025 -0.272266       0.963026   \n",
      "\n",
      "      Gender      DayB    MonthB     YearB  Australia    Canada    France  \\\n",
      "0   0.944194 -0.749611 -1.926916 -1.736911  -0.537150 -0.283761 -0.261197   \n",
      "1   0.944194  0.218636  0.321153  0.682623   1.841658 -0.283761 -0.261197   \n",
      "2  -0.964720  0.218636  0.321153  0.567407  -0.537150 -0.283761 -0.261197   \n",
      "3  -0.964720  1.428945  0.000000  1.834782   1.841658 -0.283761 -0.261197   \n",
      "4  -0.964720 -0.870642 -1.284611  0.221760  -0.537150 -0.283761 -0.261197   \n",
      "..       ...       ...       ...       ...        ...       ...       ...   \n",
      "88 -0.964720 -0.870642  0.963458  1.489135  -0.537150 -0.283761 -0.261197   \n",
      "89  0.944194  0.702760  0.321153  0.336976   1.841658 -0.283761 -0.261197   \n",
      "90 -0.964720  0.944822 -0.642305 -0.699968  -0.537150 -0.283761 -0.261197   \n",
      "91 -0.964720  0.581729  0.963458  1.258703  -0.537150 -0.283761 -0.261197   \n",
      "92  0.944194  0.823791 -0.963458 -0.699968  -0.537150 -0.283761 -0.261197   \n",
      "\n",
      "     Germany  United Kingdom  United States   Europe  North America   Pacific  \n",
      "0  -0.305132       -0.283761       1.049601 -0.53715       0.922363 -0.553649  \n",
      "1  -0.305132       -0.283761      -0.942499 -0.53715      -1.072515  1.786777  \n",
      "2  -0.305132       -0.283761       1.049601 -0.53715       0.922363 -0.553649  \n",
      "3  -0.305132       -0.283761      -0.942499 -0.53715      -1.072515  1.786777  \n",
      "4  -0.305132       -0.283761       1.049601 -0.53715      -1.072515  1.786777  \n",
      "..       ...             ...            ...      ...            ...       ...  \n",
      "88 -0.305132       -0.283761       1.049601 -0.53715       0.922363 -0.553649  \n",
      "89 -0.305132       -0.283761      -0.942499 -0.53715      -1.072515  1.786777  \n",
      "90 -0.305132       -0.283761       1.049601 -0.53715       0.922363 -0.553649  \n",
      "91 -0.305132       -0.283761       1.049601 -0.53715       0.922363 -0.553649  \n",
      "92 -0.305132       -0.283761       1.049601 -0.53715       0.922363 -0.553649  \n",
      "\n",
      "[93 rows x 18 columns]\n"
     ],
     "output_type":"stream"
    }
   ],
   "metadata":{
    "datalore":{
     "node_id":"xkmQ5v9bG8lllWP0Ej9A2u",
     "type":"CODE",
     "hide_input_from_viewers":false,
     "hide_output_from_viewers":false,
     "report_properties":{
      "rowId":"alpmkZ485y3jNgk2z8DmoP"
     }
    }
   }
  },
  {
   "cell_type":"code",
   "source":[
    "##funcion de test de shapiro\n",
    "from scipy import stats\n",
    "def shapiro_test(df):\n",
    "    results = []\n",
    "    for column in df.columns:\n",
    "        stat, p_value = stats.shapiro(df[column])\n",
    "        results.append((column, stat, p_value))\n",
    "    results_df = pd.DataFrame(results, columns=['Columna', 'Estadístico', 'Valor p'])\n",
    "    return results_df\n",
    "\n",
    "df= shapiro_test(dataDummiedos)\n",
    "df.info\n",
    "##no se puede concluir ningun tiene una distribucion normal ya que todas estan por debajo de 0.05 de la media"
   ],
   "execution_count":47,
   "outputs":[
    {
     "data":{
      "text\/plain":[
       "<bound method DataFrame.info of                 Columna  Estadístico       Valor p\n",
       "0             UnitPrice     0.210706  4.700222e-20\n",
       "1   ProductStandardCost     0.320013  9.231197e-19\n",
       "2           SalesAmount     0.214475  5.180343e-20\n",
       "3                TaxAmt     0.218018  5.678313e-20\n",
       "4         MaritalStatus     0.636033  7.604238e-14\n",
       "5                Gender     0.674476  4.711523e-13\n",
       "6                  DayB     0.940315  3.488135e-04\n",
       "7                MonthB     0.952707  2.011739e-03\n",
       "8                 YearB     0.965217  1.399343e-02\n",
       "9             Australia     0.516405  5.586272e-16\n",
       "10               Canada     0.290081  3.947694e-19\n",
       "11               France     0.264144  1.932271e-19\n",
       "12              Germany     0.313989  7.763112e-19\n",
       "13       United Kingdom     0.290081  3.947694e-19\n",
       "14        United States     0.635359  7.374007e-14\n",
       "15               Europe     0.516405  5.586272e-16\n",
       "16        North America     0.634348  7.042382e-14\n",
       "17              Pacific     0.526508  8.155672e-16>"
      ]
     },
     "metadata":{
      
     },
     "output_type":"display_data"
    }
   ],
   "metadata":{
    "datalore":{
     "node_id":"AdZtKCtRjgjYOfQv7dqk9n",
     "type":"CODE",
     "hide_input_from_viewers":true,
     "hide_output_from_viewers":true
    }
   }
  },
  {
   "cell_type":"code",
   "source":[
    "\n",
    "from sklearn.preprocessing import MinMaxScaler\n",
    "##test de normalidad\n",
    "def normaData(df):\n",
    "    valores = df.values\n",
    "    scaler = MinMaxScaler(feature_range=(0, 1))\n",
    "    scaler = scaler.fit(valores)\n",
    "\n",
    "    pd.DataFrame(np.vstack((scaler.data_min_, scaler.data_max_)),\n",
    "                 index=['Min', 'Max'],\n",
    "                 columns=df.columns)\n",
    "\n",
    "    normalizados = scaler.transform(valores)\n",
    "    df_norm = pd.DataFrame(normalizados,\n",
    "                           index=df.index,\n",
    "                           columns=df.columns)\n",
    "    return df_norm\n",
    "\n",
    "data =normaData(dataDummiedos)"
   ],
   "execution_count":45,
   "outputs":[
    
   ],
   "metadata":{
    "datalore":{
     "node_id":"8BwR4tx1IzrHJday8CdUch",
     "type":"CODE",
     "hide_input_from_viewers":true,
     "hide_output_from_viewers":true
    }
   }
  },
  {
   "cell_type":"code",
   "source":[
    "def tidy_corr_matrix(corr_mat):\n",
    "    '''\n",
    "    Función para convertir una matriz de correlación de pandas en formato tidy.\n",
    "    '''\n",
    "    corr_mat = corr_mat.stack().reset_index()\n",
    "    corr_mat.columns = ['variable_1','variable_2','r']\n",
    "    corr_mat = corr_mat.loc[corr_mat['variable_1'] != corr_mat['variable_2'], :]\n",
    "    corr_mat['abs_r'] = np.abs(corr_mat['r'])\n",
    "    corr_mat = corr_mat.sort_values('abs_r', ascending=False)\n",
    "    return corr_mat\n",
    "\n",
    "tidy_corr_matrix(data)"
   ],
   "execution_count":38,
   "outputs":[
    {
     "data":{
      "text\/html":[
       "<div>\n",
       "<style scoped>\n",
       "    .dataframe tbody tr th:only-of-type {\n",
       "        vertical-align: middle;\n",
       "    }\n",
       "\n",
       "    .dataframe tbody tr th {\n",
       "        vertical-align: top;\n",
       "    }\n",
       "\n",
       "    .dataframe thead th {\n",
       "        text-align: right;\n",
       "    }\n",
       "<\/style>\n",
       "<table border=\"1\" class=\"dataframe\">\n",
       "  <thead>\n",
       "    <tr style=\"text-align: right;\">\n",
       "      <th><\/th>\n",
       "      <th>variable_1<\/th>\n",
       "      <th>variable_2<\/th>\n",
       "      <th>r<\/th>\n",
       "      <th>abs_r<\/th>\n",
       "    <\/tr>\n",
       "  <\/thead>\n",
       "  <tbody>\n",
       "    <tr>\n",
       "      <th>579<\/th>\n",
       "      <td>86<\/td>\n",
       "      <td>TaxAmt<\/td>\n",
       "      <td>1.0<\/td>\n",
       "      <td>1.0<\/td>\n",
       "    <\/tr>\n",
       "    <tr>\n",
       "      <th>840<\/th>\n",
       "      <td>127<\/td>\n",
       "      <td>Germany<\/td>\n",
       "      <td>1.0<\/td>\n",
       "      <td>1.0<\/td>\n",
       "    <\/tr>\n",
       "    <tr>\n",
       "      <th>785<\/th>\n",
       "      <td>121<\/td>\n",
       "      <td>France<\/td>\n",
       "      <td>1.0<\/td>\n",
       "      <td>1.0<\/td>\n",
       "    <\/tr>\n",
       "    <tr>\n",
       "      <th>789<\/th>\n",
       "      <td>121<\/td>\n",
       "      <td>Europe<\/td>\n",
       "      <td>1.0<\/td>\n",
       "      <td>1.0<\/td>\n",
       "    <\/tr>\n",
       "    <tr>\n",
       "      <th>345<\/th>\n",
       "      <td>51<\/td>\n",
       "      <td>TaxAmt<\/td>\n",
       "      <td>1.0<\/td>\n",
       "      <td>1.0<\/td>\n",
       "    <\/tr>\n",
       "    <tr>\n",
       "      <th>...<\/th>\n",
       "      <td>...<\/td>\n",
       "      <td>...<\/td>\n",
       "      <td>...<\/td>\n",
       "      <td>...<\/td>\n",
       "    <\/tr>\n",
       "    <tr>\n",
       "      <th>778<\/th>\n",
       "      <td>121<\/td>\n",
       "      <td>MaritalStatus<\/td>\n",
       "      <td>0.0<\/td>\n",
       "      <td>0.0<\/td>\n",
       "    <\/tr>\n",
       "    <tr>\n",
       "      <th>779<\/th>\n",
       "      <td>121<\/td>\n",
       "      <td>Gender<\/td>\n",
       "      <td>0.0<\/td>\n",
       "      <td>0.0<\/td>\n",
       "    <\/tr>\n",
       "    <tr>\n",
       "      <th>780<\/th>\n",
       "      <td>121<\/td>\n",
       "      <td>DayB<\/td>\n",
       "      <td>0.0<\/td>\n",
       "      <td>0.0<\/td>\n",
       "    <\/tr>\n",
       "    <tr>\n",
       "      <th>783<\/th>\n",
       "      <td>121<\/td>\n",
       "      <td>Australia<\/td>\n",
       "      <td>0.0<\/td>\n",
       "      <td>0.0<\/td>\n",
       "    <\/tr>\n",
       "    <tr>\n",
       "      <th>1673<\/th>\n",
       "      <td>280<\/td>\n",
       "      <td>Pacific<\/td>\n",
       "      <td>0.0<\/td>\n",
       "      <td>0.0<\/td>\n",
       "    <\/tr>\n",
       "  <\/tbody>\n",
       "<\/table>\n",
       "<p>1674 rows × 4 columns<\/p>\n",
       "<\/div>"
      ]
     },
     "metadata":{
      
     },
     "output_type":"display_data"
    }
   ],
   "metadata":{
    "datalore":{
     "node_id":"acqJIxcjUb3iv5MOMvpzkk",
     "type":"CODE",
     "hide_input_from_viewers":true,
     "hide_output_from_viewers":true
    }
   }
  },
  {
   "cell_type":"code",
   "source":[
    "fig, ax = plt.subplots(nrows=1, ncols=1, figsize=(10, 8))\n",
    "##figura de la grafica de correlacion\n",
    "sns.heatmap(\n",
    "    data,\n",
    "    annot     = True,\n",
    "    cbar      = False,\n",
    "    annot_kws = {\"size\": 8},\n",
    "    vmin      = -1,\n",
    "    vmax      = 1,\n",
    "    center    = 0,\n",
    "    cmap      = sns.diverging_palette(15, 150, n=100),\n",
    "    square    = True,\n",
    "    ax        = ax\n",
    ")\n",
    "\n",
    "ax.set_xticklabels(\n",
    "    ax.get_xticklabels(),\n",
    "    rotation = 45,\n",
    "    horizontalalignment = 'right',\n",
    ")\n",
    "\n",
    "ax.tick_params(labelsize = 10)\n",
    "\n"
   ],
   "execution_count":39,
   "outputs":[
    {
     "data":{
      "image\/png":"[encoded data removed]"
     },
     "metadata":{
      "image\/png":{
       
      }
     },
     "output_type":"display_data"
    }
   ],
   "metadata":{
    "datalore":{
     "node_id":"IIdBcfsFM9oNezKobvRc7m",
     "type":"CODE",
     "hide_input_from_viewers":true,
     "hide_output_from_viewers":true
    }
   }
  },
  {
   "cell_type":"code",
   "source":[
    "##para exportar la data limpia\n",
    "dataDummiedos.to_csv('datalimpiadummiedos.csv', index=False)\n",
    "df.to_csv('shapiro.csv', index=False)\n",
    "data.to_csv('dataNormalidad.csv', index=False)"
   ],
   "execution_count":48,
   "outputs":[
    
   ],
   "metadata":{
    "datalore":{
     "node_id":"rH0WGpwTMcLf2OfbHcHwG0",
     "type":"CODE",
     "hide_input_from_viewers":true,
     "hide_output_from_viewers":true
    }
   }
  }
 ],
 "metadata":{
  "kernelspec":{
   "display_name":"Python",
   "language":"python",
   "name":"python"
  },
  "datalore":{
   "computation_mode":"JUPYTER",
   "package_manager":"pip",
   "base_environment":"default",
   "packages":[
    
   ],
   "report_row_ids":[
    "GMDF5SA4tRiHm5mBBZO4up",
    "JqtkUDh1Cnum9wyqnlCkul",
    "FqBjeiBM52xF5YWwatySHk",
    "2nv3tgC6rrX4UfroXDLI5n",
    "BKc6U3Gt6PAGzNpduMRJUA",
    "WwZp0wAAM5iXu0JEw9YYcM",
    "K7NGssrsy7ZeV24hU6za3f",
    "BtSjuTixhUhng8fpZVDrvI",
    "BYTqp2mdKT0vyHvOHilCCA",
    "RA2pBwodhiufXideFuwsez",
    "Z07tzcQog99aauKGQbOWjK",
    "3P5qjTaTyZeR2r9QeHlJ49",
    "c9uee0oCV3iebu57GdF2ag",
    "Dans5I3sya3nVJzYIoIRN3",
    "b6t8EGJP2GBzeudgJPqjRq",
    "4vhCSJtAZ2Wn3N8SzrKNt6",
    "HNSy0CoMp1MyjCCxU4cqof",
    "fK56F7PfeHCDq3BjEuf0Nn",
    "5LQIJQRFoRhCmfn1UVXXeA",
    "CGCjUtJ4Kv7jjM46KQZpR1",
    "7KynsoSm2ahrpadZX5iXxk",
    "6l5vkDVDfYyGEkdIbDDi50",
    "g1bVJffjVSnPe3Ti9ZNENA",
    "3BSpmJBYE1OK1VLNYHeqhE",
    "OykOIjTQYTvjxsQcBPrCMG",
    "haTTO2EcK5SaZUEUgyaghe",
    "4RbtL72IQymjViUTdgW1bn",
    "8JLpv1h4bpF2Qhjfo7pdl6",
    "f27aaH0DhKc7Az2H9I7p8a",
    "zbkIl5Ek8BYCWoJd7MiLNi",
    "BEJT3eWaSeukPQ3GpPEUTx",
    "sVdVZIn4u6n8rPTOhks95v",
    "Br3yOOSq5UsAf44Ggq3FdF",
    "6EFH6zdVXmuuBS1nhiIaFQ",
    "ITo2htuobwwnXaRuhCqM09",
    "8t6gCisYik1mkugrM4gG2m",
    "1gZsGdyQGjCeAamRwlbL1E",
    "5UT7bm2T4rz0gxOZPAlDzs",
    "KbIhz9wxyRVEt9t63JB3DO",
    "zY7Idgvg88YJCpUk3Dp6xa",
    "oBn6a5sV6VIaAMBK5VvHTj",
    "keZeA5dlnGNRipT7zTeVTm",
    "X5CnvWmjBBak06XdvSCxhg",
    "rbilC19vWPZyOCbfFTYvlT",
    "alpmkZ485y3jNgk2z8DmoP"
   ],
   "version":3
  }
 },
 "nbformat":4,
 "nbformat_minor":4
}